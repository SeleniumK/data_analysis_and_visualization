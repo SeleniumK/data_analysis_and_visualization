{
 "cells": [
  {
   "cell_type": "markdown",
   "metadata": {},
   "source": [
    "# Probability and Movies\n",
    "### Looking at data from IMDB\n",
    "\n",
    "#### Selena Flannery -- November 15, 2016"
   ]
  },
  {
   "cell_type": "code",
   "execution_count": 24,
   "metadata": {
    "collapsed": false
   },
   "outputs": [],
   "source": [
    "import pandas as pd\n",
    "import numpy as np\n",
    "import matplotlib.pyplot as plt\n",
    "\n",
    "\n",
    "filename = 'data/movie_metadata.csv'\n",
    "\n",
    "m = pd.read_csv(filename)\n",
    "m.movie_title = m.movie_title.str.strip()\n",
    "m.duration = pd.to_numeric(m.duration)\n",
    "m.budget = pd.to_numeric(m.budget)\n",
    "m.gross = pd.to_numeric(m.gross)\n",
    "m.imdb_score = pd.to_numeric(m.imdb_score)\n",
    "m.set_index(\"movie_title\", inplace=True)\n",
    "m.drop([\"color\", \"director_facebook_likes\", \"actor_3_facebook_likes\", \"actor_2_name\", \"actor_1_facebook_likes\", \"actor_1_name\"], axis=1, inplace=True)\n",
    "m.drop([\"cast_total_facebook_likes\", \"movie_imdb_link\", \"language\", \"actor_2_facebook_likes\", \"aspect_ratio\"], axis=1, inplace=True)\n",
    "m.drop([\"actor_3_name\", \"facenumber_in_poster\", \"plot_keywords\", \"country\"], axis=1, inplace=True)"
   ]
  },
  {
   "cell_type": "code",
   "execution_count": 25,
   "metadata": {
    "collapsed": false
   },
   "outputs": [
    {
     "data": {
      "text/plain": [
       "Index(['director_name', 'num_critic_for_reviews', 'duration', 'gross',\n",
       "       'genres', 'num_voted_users', 'num_user_for_reviews', 'content_rating',\n",
       "       'budget', 'title_year', 'imdb_score', 'movie_facebook_likes'],\n",
       "      dtype='object')"
      ]
     },
     "execution_count": 25,
     "metadata": {},
     "output_type": "execute_result"
    }
   ],
   "source": [
    "m.columns"
   ]
  },
  {
   "cell_type": "markdown",
   "metadata": {},
   "source": [
    "## What is the probability that..."
   ]
  },
  {
   "cell_type": "markdown",
   "metadata": {},
   "source": [
    "### A movie was longer than an hour and a half?"
   ]
  },
  {
   "cell_type": "code",
   "execution_count": 4,
   "metadata": {
    "collapsed": false
   },
   "outputs": [
    {
     "data": {
      "text/plain": [
       "0.8080507634344636"
      ]
     },
     "execution_count": 4,
     "metadata": {},
     "output_type": "execute_result"
    }
   ],
   "source": [
    "ninety_min_num_movies = len(m.duration[m.duration > 90.0])\n",
    "total_num_movies = len(m.index[m.duration != np.nan])\n",
    "ninety_min_num_movies/total_num_movies"
   ]
  },
  {
   "cell_type": "markdown",
   "metadata": {},
   "source": [
    "### A movie was longer than two hours?"
   ]
  },
  {
   "cell_type": "code",
   "execution_count": 5,
   "metadata": {
    "collapsed": false
   },
   "outputs": [
    {
     "data": {
      "text/plain": [
       "0.2115804084870117"
      ]
     },
     "execution_count": 5,
     "metadata": {},
     "output_type": "execute_result"
    }
   ],
   "source": [
    "two_hour_movies = len(m.duration[m.duration > 120.0])\n",
    "two_hour_movies/total_num_movies"
   ]
  },
  {
   "cell_type": "markdown",
   "metadata": {},
   "source": [
    "### A movie was directed by Steven Spielberg?"
   ]
  },
  {
   "cell_type": "code",
   "execution_count": 6,
   "metadata": {
    "collapsed": false
   },
   "outputs": [
    {
     "data": {
      "text/plain": [
       "0.005155661312710688"
      ]
     },
     "execution_count": 6,
     "metadata": {},
     "output_type": "execute_result"
    }
   ],
   "source": [
    "num_movies_directed = len(m.director_name[m.director_name != np.nan])\n",
    "spiel = len(m.director_name[m.director_name == \"Steven Spielberg\"])\n",
    "spiel/num_movies_directed"
   ]
  },
  {
   "cell_type": "markdown",
   "metadata": {},
   "source": [
    "### A movie directed by Clint Eastwood will gross under budget?"
   ]
  },
  {
   "cell_type": "code",
   "execution_count": 7,
   "metadata": {
    "collapsed": false
   },
   "outputs": [
    {
     "data": {
      "text/plain": [
       "0.35"
      ]
     },
     "execution_count": 7,
     "metadata": {},
     "output_type": "execute_result"
    }
   ],
   "source": [
    "e_movies = m[m.director_name == \"Clint Eastwood\"]\n",
    "e_gross_under_budget = len(e_movies[(e_movies.gross != np.nan) & (e_movies.budget != np.nan) & (e_movies.gross < e_movies.budget)])\n",
    "e_gross_under_budget/len(e_movies.index)"
   ]
  },
  {
   "cell_type": "markdown",
   "metadata": {},
   "source": [
    "### A movie generally grossed more than its budget?"
   ]
  },
  {
   "cell_type": "code",
   "execution_count": 8,
   "metadata": {
    "collapsed": false
   },
   "outputs": [
    {
     "data": {
      "text/plain": [
       "0.5268568491390389"
      ]
     },
     "execution_count": 8,
     "metadata": {},
     "output_type": "execute_result"
    }
   ],
   "source": [
    "movies_with_budget_and_gross = m[(~pd.isnull(m.gross)) & (~pd.isnull(m.budget))]\n",
    "gross_over_budget = m[(m.gross > m.budget) & (~pd.isnull(m.gross)) & (~pd.isnull(m.budget))]\n",
    "\n",
    "len(gross_over_budget)/len(movies_with_budget_and_gross)\n"
   ]
  },
  {
   "cell_type": "markdown",
   "metadata": {},
   "source": [
    "### A movie grossed over the average gross of this data set?"
   ]
  },
  {
   "cell_type": "code",
   "execution_count": 9,
   "metadata": {
    "collapsed": false
   },
   "outputs": [
    {
     "data": {
      "text/plain": [
       "0.31882664101947583"
      ]
     },
     "execution_count": 9,
     "metadata": {},
     "output_type": "execute_result"
    }
   ],
   "source": [
    "average_gross = m.gross.mean()\n",
    "movie_grossed_over_average = len(m.index[(~pd.isnull(m.gross)) & (m.gross > average_gross)])\n",
    "total_movie_with_gross = len(m.index[~pd.isnull(m.gross)])\n",
    "movie_grossed_over_average/total_movie_with_gross"
   ]
  },
  {
   "cell_type": "markdown",
   "metadata": {},
   "source": [
    "## False Positives\n",
    "\n",
    "###  A movie that was highly-rated but did poorly in the box office (gross < budget)"
   ]
  },
  {
   "cell_type": "code",
   "execution_count": 18,
   "metadata": {
    "collapsed": false
   },
   "outputs": [
    {
     "data": {
      "text/plain": [
       "0.43015521064301554"
      ]
     },
     "execution_count": 18,
     "metadata": {},
     "output_type": "execute_result"
    }
   ],
   "source": [
    "movies_with_scores = m[(~pd.isnull(m.imdb_score) & (~pd.isnull(m.gross)) & (~pd.isnull(m.budget)))][[\"imdb_score\", \"gross\", \"budget\"]]\n",
    "positive_scores = movies_with_scores[movies_with_scores.imdb_score > 6]\n",
    "false_positives = positive_scores[positive_scores.gross < positive_scores.budget]\n",
    "len(false_positives)/len(positive_scores)"
   ]
  },
  {
   "cell_type": "markdown",
   "metadata": {
    "collapsed": true
   },
   "source": [
    "## False Negatives\n",
    "\n",
    "### A movie that was poorly rated, but did well in the box office (gross > budget)"
   ]
  },
  {
   "cell_type": "code",
   "execution_count": 22,
   "metadata": {
    "collapsed": false
   },
   "outputs": [
    {
     "data": {
      "text/plain": [
       "0.42953586497890295"
      ]
     },
     "execution_count": 22,
     "metadata": {},
     "output_type": "execute_result"
    }
   ],
   "source": [
    "negative_scores = movies_with_scores[movies_with_scores.imdb_score <= 6]\n",
    "false_negatives = negative_scores[negative_scores.gross > negative_scores.budget]\n",
    "\n",
    "len(false_negatives)/len(negative_scores)"
   ]
  },
  {
   "cell_type": "markdown",
   "metadata": {},
   "source": [
    "### Tom Hanks vs Harrison Ford: Gross > budget"
   ]
  },
  {
   "cell_type": "markdown",
   "metadata": {},
   "source": [
    "### Tom Hanks vs Harrison Ford: Ratings"
   ]
  },
  {
   "cell_type": "markdown",
   "metadata": {},
   "source": [
    "# Visualizations"
   ]
  },
  {
   "cell_type": "code",
   "execution_count": 58,
   "metadata": {
    "collapsed": false
   },
   "outputs": [
    {
     "data": {
      "image/png": "[encoded data removed]",
      "text/plain": [
       "<matplotlib.figure.Figure at 0x10c332eb8>"
      ]
     },
     "metadata": {},
     "output_type": "display_data"
    }
   ],
   "source": [
    "scores = m.imdb_score\n",
    "\n",
    "plt.figure(figsize=(10, 3))\n",
    "plt.hist(scores, bins=np.arange(1, 11))\n",
    "plt.title(\"Distribution of Ratings\")\n",
    "plt.xlabel(\"IMDB Rating\")\n",
    "plt.ylabel(\"# of Movies\")\n",
    "plt.show()"
   ]
  },
  {
   "cell_type": "markdown",
   "metadata": {},
   "source": [
    "According to this graph, it appears that the distribution is skewed to the right, most films are rate at a 6 or a seven"
   ]
  },
  {
   "cell_type": "code",
   "execution_count": 49,
   "metadata": {
    "collapsed": false
   },
   "outputs": [
    {
     "data": {
      "text/plain": [
       "count    5043.000000\n",
       "mean        6.442138\n",
       "std         1.125116\n",
       "min         1.600000\n",
       "25%         5.800000\n",
       "50%         6.600000\n",
       "75%         7.200000\n",
       "max         9.500000\n",
       "Name: imdb_score, dtype: float64"
      ]
     },
     "execution_count": 49,
     "metadata": {},
     "output_type": "execute_result"
    }
   ],
   "source": [
    "scores.describe()"
   ]
  },
  {
   "cell_type": "code",
   "execution_count": 64,
   "metadata": {
    "collapsed": false
   },
   "outputs": [
    {
     "name": "stdout",
     "output_type": "stream",
     "text": [
      "Mean: 6.442137616498116\n",
      "Median: 6.6\n",
      "Standard Deviation: 1.125115865732819\n",
      "The mean is 0.14030766813430648 standard deviations below the median\n"
     ]
    }
   ],
   "source": [
    "mean = scores.mean()\n",
    "median = scores.quantile(.5)\n",
    "std = scores.std()\n",
    "print(\"Mean: {}\\nMedian: {}\\nStandard Deviation: {}\".format(mean, median, std) )\n",
    "print(\"The mean is {} standard deviations below the median\".format((median - mean)/std))"
   ]
  },
  {
   "cell_type": "markdown",
   "metadata": {},
   "source": [
    "## What’s the probability that a movie’s length will be between 1:10 and 1:30?"
   ]
  },
  {
   "cell_type": "code",
   "execution_count": null,
   "metadata": {
    "collapsed": true
   },
   "outputs": [],
   "source": []
  }
 ],
 "metadata": {
  "kernelspec": {
   "display_name": "Python 3",
   "language": "python",
   "name": "python3"
  },
  "language_info": {
   "codemirror_mode": {
    "name": "ipython",
    "version": 3
   },
   "file_extension": ".py",
   "mimetype": "text/x-python",
   "name": "python",
   "nbconvert_exporter": "python",
   "pygments_lexer": "ipython3",
   "version": "3.5.1"
  }
 },
 "nbformat": 4,
 "nbformat_minor": 1
}
