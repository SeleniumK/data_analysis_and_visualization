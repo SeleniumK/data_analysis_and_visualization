{
 "cells": [
  {
   "cell_type": "markdown",
   "metadata": {},
   "source": [
    "# Probability and Movies\n",
    "### Looking at data from IMDB\n",
    "\n",
    "#### Selena Flannery -- November 15, 2016"
   ]
  },
  {
   "cell_type": "code",
   "execution_count": 146,
   "metadata": {
    "collapsed": false
   },
   "outputs": [],
   "source": [
    "import pandas as pd\n",
    "import numpy as np\n",
    "\n",
    "filename = 'data/movie_metadata.csv'\n",
    "\n",
    "m = pd.read_csv(filename)\n",
    "m.movie_title = m.movie_title.str.strip()\n",
    "m.duration = pd.to_numeric(m.duration)\n",
    "m.budget = pd.to_numeric(m.budget)\n",
    "m.gross = pd.to_numeric(m.gross)\n",
    "m.imdb_score = pd.to_numeric(m.imdb_score)\n",
    "m.set_index(\"movie_title\", inplace=True)\n",
    "m.drop([\"color\", \"director_facebook_likes\", \"actor_3_facebook_likes\", \"actor_2_name\", \"actor_1_facebook_likes\", \"actor_1_name\"], axis=1, inplace=True)\n",
    "m.drop([\"cast_total_facebook_likes\", \"movie_imdb_link\", \"language\", \"actor_2_facebook_likes\", \"aspect_ratio\"], axis=1, inplace=True)\n",
    "m.drop([\"actor_3_name\", \"facenumber_in_poster\", \"plot_keywords\", \"country\"], axis=1, inplace=True)"
   ]
  },
  {
   "cell_type": "code",
   "execution_count": 122,
   "metadata": {
    "collapsed": false
   },
   "outputs": [
    {
     "data": {
      "text/plain": [
       "Index(['director_name', 'num_critic_for_reviews', 'duration', 'gross',\n",
       "       'genres', 'num_voted_users', 'num_user_for_reviews', 'content_rating',\n",
       "       'budget', 'title_year', 'imdb_score', 'movie_facebook_likes'],\n",
       "      dtype='object')"
      ]
     },
     "execution_count": 122,
     "metadata": {},
     "output_type": "execute_result"
    }
   ],
   "source": [
    "m.columns"
   ]
  },
  {
   "cell_type": "markdown",
   "metadata": {},
   "source": [
    "## What is the probability that..."
   ]
  },
  {
   "cell_type": "markdown",
   "metadata": {},
   "source": [
    "### A movie was longer than an hour and a half?"
   ]
  },
  {
   "cell_type": "code",
   "execution_count": 123,
   "metadata": {
    "collapsed": false
   },
   "outputs": [
    {
     "data": {
      "text/plain": [
       "0.8080507634344636"
      ]
     },
     "execution_count": 123,
     "metadata": {},
     "output_type": "execute_result"
    }
   ],
   "source": [
    "ninety_min_num_movies = len(m.duration[m.duration > 90.0])\n",
    "total_num_movies = len(m.index[m.duration != np.nan])\n",
    "ninety_min_num_movies/total_num_movies"
   ]
  },
  {
   "cell_type": "markdown",
   "metadata": {},
   "source": [
    "### A movie was longer than two hours?"
   ]
  },
  {
   "cell_type": "code",
   "execution_count": 124,
   "metadata": {
    "collapsed": false
   },
   "outputs": [
    {
     "data": {
      "text/plain": [
       "0.2115804084870117"
      ]
     },
     "execution_count": 124,
     "metadata": {},
     "output_type": "execute_result"
    }
   ],
   "source": [
    "two_hour_movies = len(m.duration[m.duration > 120.0])\n",
    "two_hour_movies/total_num_movies"
   ]
  },
  {
   "cell_type": "markdown",
   "metadata": {},
   "source": [
    "### A movie was directed by Steven Spielberg?"
   ]
  },
  {
   "cell_type": "code",
   "execution_count": 125,
   "metadata": {
    "collapsed": false
   },
   "outputs": [
    {
     "data": {
      "text/plain": [
       "0.005155661312710688"
      ]
     },
     "execution_count": 125,
     "metadata": {},
     "output_type": "execute_result"
    }
   ],
   "source": [
    "num_movies_directed = len(m.director_name[m.director_name != np.nan])\n",
    "spiel = len(m.director_name[m.director_name == \"Steven Spielberg\"])\n",
    "spiel/num_movies_directed"
   ]
  },
  {
   "cell_type": "markdown",
   "metadata": {},
   "source": [
    "### A movie directed by Clint Eastwood will gross under budget?"
   ]
  },
  {
   "cell_type": "code",
   "execution_count": 140,
   "metadata": {
    "collapsed": false
   },
   "outputs": [
    {
     "data": {
      "text/plain": [
       "0.35"
      ]
     },
     "execution_count": 140,
     "metadata": {},
     "output_type": "execute_result"
    }
   ],
   "source": [
    "e_movies = m[m.director_name == \"Clint Eastwood\"]\n",
    "e_gross_under_budget = len(e_movies[(e_movies.gross != np.nan) & (e_movies.budget != np.nan) & (e_movies.gross < e_movies.budget)])\n",
    "e_gross_under_budget/len(e_movies.index)"
   ]
  },
  {
   "cell_type": "markdown",
   "metadata": {},
   "source": [
    "### A movie generally grossed more than its budget?"
   ]
  },
  {
   "cell_type": "code",
   "execution_count": 176,
   "metadata": {
    "collapsed": false
   },
   "outputs": [
    {
     "data": {
      "text/plain": [
       "0.5268568491390389"
      ]
     },
     "execution_count": 176,
     "metadata": {},
     "output_type": "execute_result"
    }
   ],
   "source": [
    "movies_with_budget_and_gross = m[(~pd.isnull(m.gross)) & (~pd.isnull(m.budget))]\n",
    "gross_over_budget = m[(m.gross > m.budget) & (~pd.isnull(m.gross)) & (~pd.isnull(m.budget))]\n",
    "\n",
    "len(gross_over_budget)/len(movies_with_budget_and_gross)\n"
   ]
  },
  {
   "cell_type": "markdown",
   "metadata": {},
   "source": [
    "### A movie grossed over the average gross of this data set?"
   ]
  },
  {
   "cell_type": "code",
   "execution_count": 177,
   "metadata": {
    "collapsed": false
   },
   "outputs": [
    {
     "data": {
      "text/plain": [
       "0.31882664101947583"
      ]
     },
     "execution_count": 177,
     "metadata": {},
     "output_type": "execute_result"
    }
   ],
   "source": [
    "average_gross = m.gross.mean()\n",
    "movie_grossed_over_average = len(m.index[(~pd.isnull(m.gross)) & (m.gross > average_gross)])\n",
    "total_movie_with_gross = len(m.index[~pd.isnull(m.gross)])\n",
    "movie_grossed_over_average/total_movie_with_gross"
   ]
  },
  {
   "cell_type": "markdown",
   "metadata": {},
   "source": [
    "## False Positives\n",
    "\n",
    "###  A movie that was highly-rated but did poorly in the box office (gross < budget)"
   ]
  },
  {
   "cell_type": "code",
   "execution_count": 156,
   "metadata": {
    "collapsed": false
   },
   "outputs": [
    {
     "data": {
      "text/html": [
       "<div>\n",
       "<table border=\"1\" class=\"dataframe\">\n",
       "  <thead>\n",
       "    <tr style=\"text-align: right;\">\n",
       "      <th></th>\n",
       "      <th>imdb_score</th>\n",
       "      <th>gross</th>\n",
       "      <th>budget</th>\n",
       "    </tr>\n",
       "    <tr>\n",
       "      <th>movie_title</th>\n",
       "      <th></th>\n",
       "      <th></th>\n",
       "      <th></th>\n",
       "    </tr>\n",
       "  </thead>\n",
       "  <tbody>\n",
       "    <tr>\n",
       "      <th>Spectre</th>\n",
       "      <td>6.8</td>\n",
       "      <td>200074175.0</td>\n",
       "      <td>245000000.0</td>\n",
       "    </tr>\n",
       "    <tr>\n",
       "      <th>John Carter</th>\n",
       "      <td>6.6</td>\n",
       "      <td>73058679.0</td>\n",
       "      <td>263700000.0</td>\n",
       "    </tr>\n",
       "    <tr>\n",
       "      <th>Tangled</th>\n",
       "      <td>7.8</td>\n",
       "      <td>200807262.0</td>\n",
       "      <td>260000000.0</td>\n",
       "    </tr>\n",
       "    <tr>\n",
       "      <th>Superman Returns</th>\n",
       "      <td>6.1</td>\n",
       "      <td>200069408.0</td>\n",
       "      <td>209000000.0</td>\n",
       "    </tr>\n",
       "    <tr>\n",
       "      <th>Quantum of Solace</th>\n",
       "      <td>6.7</td>\n",
       "      <td>168368427.0</td>\n",
       "      <td>200000000.0</td>\n",
       "    </tr>\n",
       "    <tr>\n",
       "      <th>The Lone Ranger</th>\n",
       "      <td>6.5</td>\n",
       "      <td>89289910.0</td>\n",
       "      <td>215000000.0</td>\n",
       "    </tr>\n",
       "    <tr>\n",
       "      <th>The Chronicles of Narnia: Prince Caspian</th>\n",
       "      <td>6.6</td>\n",
       "      <td>141614023.0</td>\n",
       "      <td>225000000.0</td>\n",
       "    </tr>\n",
       "    <tr>\n",
       "      <th>Pirates of the Caribbean: On Stranger Tides</th>\n",
       "      <td>6.7</td>\n",
       "      <td>241063875.0</td>\n",
       "      <td>250000000.0</td>\n",
       "    </tr>\n",
       "    <tr>\n",
       "      <th>Men in Black 3</th>\n",
       "      <td>6.8</td>\n",
       "      <td>179020854.0</td>\n",
       "      <td>225000000.0</td>\n",
       "    </tr>\n",
       "    <tr>\n",
       "      <th>Robin Hood</th>\n",
       "      <td>6.7</td>\n",
       "      <td>105219735.0</td>\n",
       "      <td>200000000.0</td>\n",
       "    </tr>\n",
       "    <tr>\n",
       "      <th>The Golden Compass</th>\n",
       "      <td>6.1</td>\n",
       "      <td>70083519.0</td>\n",
       "      <td>180000000.0</td>\n",
       "    </tr>\n",
       "    <tr>\n",
       "      <th>Cars 2</th>\n",
       "      <td>6.3</td>\n",
       "      <td>191450875.0</td>\n",
       "      <td>200000000.0</td>\n",
       "    </tr>\n",
       "    <tr>\n",
       "      <th>Terminator Salvation</th>\n",
       "      <td>6.6</td>\n",
       "      <td>125320003.0</td>\n",
       "      <td>200000000.0</td>\n",
       "    </tr>\n",
       "    <tr>\n",
       "      <th>Jack the Giant Slayer</th>\n",
       "      <td>6.3</td>\n",
       "      <td>65171860.0</td>\n",
       "      <td>195000000.0</td>\n",
       "    </tr>\n",
       "    <tr>\n",
       "      <th>Prince of Persia: The Sands of Time</th>\n",
       "      <td>6.6</td>\n",
       "      <td>90755643.0</td>\n",
       "      <td>200000000.0</td>\n",
       "    </tr>\n",
       "    <tr>\n",
       "      <th>Pacific Rim</th>\n",
       "      <td>7.0</td>\n",
       "      <td>101785482.0</td>\n",
       "      <td>190000000.0</td>\n",
       "    </tr>\n",
       "    <tr>\n",
       "      <th>Star Trek Beyond</th>\n",
       "      <td>7.5</td>\n",
       "      <td>130468626.0</td>\n",
       "      <td>185000000.0</td>\n",
       "    </tr>\n",
       "    <tr>\n",
       "      <th>A Christmas Carol</th>\n",
       "      <td>6.8</td>\n",
       "      <td>137850096.0</td>\n",
       "      <td>200000000.0</td>\n",
       "    </tr>\n",
       "    <tr>\n",
       "      <th>The Legend of Tarzan</th>\n",
       "      <td>6.6</td>\n",
       "      <td>124051759.0</td>\n",
       "      <td>180000000.0</td>\n",
       "    </tr>\n",
       "    <tr>\n",
       "      <th>X-Men: Apocalypse</th>\n",
       "      <td>7.3</td>\n",
       "      <td>154985087.0</td>\n",
       "      <td>178000000.0</td>\n",
       "    </tr>\n",
       "    <tr>\n",
       "      <th>Hugo</th>\n",
       "      <td>7.5</td>\n",
       "      <td>73820094.0</td>\n",
       "      <td>170000000.0</td>\n",
       "    </tr>\n",
       "    <tr>\n",
       "      <th>Suicide Squad</th>\n",
       "      <td>6.9</td>\n",
       "      <td>161087183.0</td>\n",
       "      <td>175000000.0</td>\n",
       "    </tr>\n",
       "    <tr>\n",
       "      <th>Edge of Tomorrow</th>\n",
       "      <td>7.9</td>\n",
       "      <td>100189501.0</td>\n",
       "      <td>178000000.0</td>\n",
       "    </tr>\n",
       "    <tr>\n",
       "      <th>Waterworld</th>\n",
       "      <td>6.1</td>\n",
       "      <td>88246220.0</td>\n",
       "      <td>175000000.0</td>\n",
       "    </tr>\n",
       "    <tr>\n",
       "      <th>Snow White and the Huntsman</th>\n",
       "      <td>6.1</td>\n",
       "      <td>155111815.0</td>\n",
       "      <td>170000000.0</td>\n",
       "    </tr>\n",
       "    <tr>\n",
       "      <th>47 Ronin</th>\n",
       "      <td>6.3</td>\n",
       "      <td>38297305.0</td>\n",
       "      <td>175000000.0</td>\n",
       "    </tr>\n",
       "    <tr>\n",
       "      <th>Tomorrowland</th>\n",
       "      <td>6.5</td>\n",
       "      <td>93417865.0</td>\n",
       "      <td>190000000.0</td>\n",
       "    </tr>\n",
       "    <tr>\n",
       "      <th>The Polar Express</th>\n",
       "      <td>6.6</td>\n",
       "      <td>665426.0</td>\n",
       "      <td>165000000.0</td>\n",
       "    </tr>\n",
       "    <tr>\n",
       "      <th>Terminator 3: Rise of the Machines</th>\n",
       "      <td>6.4</td>\n",
       "      <td>150350192.0</td>\n",
       "      <td>200000000.0</td>\n",
       "    </tr>\n",
       "    <tr>\n",
       "      <th>The Curious Case of Benjamin Button</th>\n",
       "      <td>7.8</td>\n",
       "      <td>127490802.0</td>\n",
       "      <td>150000000.0</td>\n",
       "    </tr>\n",
       "    <tr>\n",
       "      <th>...</th>\n",
       "      <td>...</td>\n",
       "      <td>...</td>\n",
       "      <td>...</td>\n",
       "    </tr>\n",
       "    <tr>\n",
       "      <th>Bloody Sunday</th>\n",
       "      <td>7.7</td>\n",
       "      <td>768045.0</td>\n",
       "      <td>2000000.0</td>\n",
       "    </tr>\n",
       "    <tr>\n",
       "      <th>Conversations with Other Women</th>\n",
       "      <td>7.1</td>\n",
       "      <td>379122.0</td>\n",
       "      <td>450000.0</td>\n",
       "    </tr>\n",
       "    <tr>\n",
       "      <th>Poultrygeist: Night of the Chicken Dead</th>\n",
       "      <td>6.2</td>\n",
       "      <td>23000.0</td>\n",
       "      <td>500000.0</td>\n",
       "    </tr>\n",
       "    <tr>\n",
       "      <th>As It Is in Heaven</th>\n",
       "      <td>7.6</td>\n",
       "      <td>9910.0</td>\n",
       "      <td>25000000.0</td>\n",
       "    </tr>\n",
       "    <tr>\n",
       "      <th>Blue Ruin</th>\n",
       "      <td>7.1</td>\n",
       "      <td>258113.0</td>\n",
       "      <td>1066167.0</td>\n",
       "    </tr>\n",
       "    <tr>\n",
       "      <th>The Beyond</th>\n",
       "      <td>6.9</td>\n",
       "      <td>126387.0</td>\n",
       "      <td>400000.0</td>\n",
       "    </tr>\n",
       "    <tr>\n",
       "      <th>Maniac</th>\n",
       "      <td>6.1</td>\n",
       "      <td>12843.0</td>\n",
       "      <td>6000000.0</td>\n",
       "    </tr>\n",
       "    <tr>\n",
       "      <th>Censored Voices</th>\n",
       "      <td>7.2</td>\n",
       "      <td>34151.0</td>\n",
       "      <td>450000.0</td>\n",
       "    </tr>\n",
       "    <tr>\n",
       "      <th>Murderball</th>\n",
       "      <td>7.8</td>\n",
       "      <td>1523883.0</td>\n",
       "      <td>1750211.0</td>\n",
       "    </tr>\n",
       "    <tr>\n",
       "      <th>Old Joy</th>\n",
       "      <td>6.7</td>\n",
       "      <td>255352.0</td>\n",
       "      <td>300000.0</td>\n",
       "    </tr>\n",
       "    <tr>\n",
       "      <th>Ayurveda: Art of Being</th>\n",
       "      <td>7.6</td>\n",
       "      <td>16892.0</td>\n",
       "      <td>300000.0</td>\n",
       "    </tr>\n",
       "    <tr>\n",
       "      <th>Nothing But a Man</th>\n",
       "      <td>8.1</td>\n",
       "      <td>12438.0</td>\n",
       "      <td>160000.0</td>\n",
       "    </tr>\n",
       "    <tr>\n",
       "      <th>Fighting Tommy Riley</th>\n",
       "      <td>6.6</td>\n",
       "      <td>5199.0</td>\n",
       "      <td>200000.0</td>\n",
       "    </tr>\n",
       "    <tr>\n",
       "      <th>Across the Universe</th>\n",
       "      <td>7.4</td>\n",
       "      <td>24343673.0</td>\n",
       "      <td>45000000.0</td>\n",
       "    </tr>\n",
       "    <tr>\n",
       "      <th>Love and Other Catastrophes</th>\n",
       "      <td>6.4</td>\n",
       "      <td>212285.0</td>\n",
       "      <td>250000.0</td>\n",
       "    </tr>\n",
       "    <tr>\n",
       "      <th>I Married a Strange Person!</th>\n",
       "      <td>7.0</td>\n",
       "      <td>203134.0</td>\n",
       "      <td>250000.0</td>\n",
       "    </tr>\n",
       "    <tr>\n",
       "      <th>Sugar Town</th>\n",
       "      <td>6.1</td>\n",
       "      <td>177840.0</td>\n",
       "      <td>250000.0</td>\n",
       "    </tr>\n",
       "    <tr>\n",
       "      <th>The Sticky Fingers of Time</th>\n",
       "      <td>6.3</td>\n",
       "      <td>18195.0</td>\n",
       "      <td>250000.0</td>\n",
       "    </tr>\n",
       "    <tr>\n",
       "      <th>Burn</th>\n",
       "      <td>7.5</td>\n",
       "      <td>111300.0</td>\n",
       "      <td>225000.0</td>\n",
       "    </tr>\n",
       "    <tr>\n",
       "      <th>Middle of Nowhere</th>\n",
       "      <td>6.5</td>\n",
       "      <td>78030.0</td>\n",
       "      <td>200000.0</td>\n",
       "    </tr>\n",
       "    <tr>\n",
       "      <th>The Business of Fancydancing</th>\n",
       "      <td>6.9</td>\n",
       "      <td>174682.0</td>\n",
       "      <td>200000.0</td>\n",
       "    </tr>\n",
       "    <tr>\n",
       "      <th>The Trials of Darryl Hunt</th>\n",
       "      <td>7.7</td>\n",
       "      <td>1111.0</td>\n",
       "      <td>200000.0</td>\n",
       "    </tr>\n",
       "    <tr>\n",
       "      <th>The Woman Chaser</th>\n",
       "      <td>7.3</td>\n",
       "      <td>110720.0</td>\n",
       "      <td>1200000.0</td>\n",
       "    </tr>\n",
       "    <tr>\n",
       "      <th>The Horse Boy</th>\n",
       "      <td>7.4</td>\n",
       "      <td>155984.0</td>\n",
       "      <td>160000.0</td>\n",
       "    </tr>\n",
       "    <tr>\n",
       "      <th>Antarctic Edge: 70° South</th>\n",
       "      <td>7.0</td>\n",
       "      <td>4914.0</td>\n",
       "      <td>150000.0</td>\n",
       "    </tr>\n",
       "    <tr>\n",
       "      <th>Top Spin</th>\n",
       "      <td>7.1</td>\n",
       "      <td>5858.0</td>\n",
       "      <td>150000.0</td>\n",
       "    </tr>\n",
       "    <tr>\n",
       "      <th>Cheap Thrills</th>\n",
       "      <td>6.8</td>\n",
       "      <td>59379.0</td>\n",
       "      <td>200000.0</td>\n",
       "    </tr>\n",
       "    <tr>\n",
       "      <th>Pink Narcissus</th>\n",
       "      <td>6.7</td>\n",
       "      <td>8231.0</td>\n",
       "      <td>27000.0</td>\n",
       "    </tr>\n",
       "    <tr>\n",
       "      <th>The Cure</th>\n",
       "      <td>7.4</td>\n",
       "      <td>94596.0</td>\n",
       "      <td>1000000.0</td>\n",
       "    </tr>\n",
       "    <tr>\n",
       "      <th>Newlyweds</th>\n",
       "      <td>6.4</td>\n",
       "      <td>4584.0</td>\n",
       "      <td>9000.0</td>\n",
       "    </tr>\n",
       "  </tbody>\n",
       "</table>\n",
       "<p>1225 rows × 3 columns</p>\n",
       "</div>"
      ],
      "text/plain": [
       "                                             imdb_score        gross  \\\n",
       "movie_title                                                            \n",
       "Spectre                                             6.8  200074175.0   \n",
       "John Carter                                         6.6   73058679.0   \n",
       "Tangled                                             7.8  200807262.0   \n",
       "Superman Returns                                    6.1  200069408.0   \n",
       "Quantum of Solace                                   6.7  168368427.0   \n",
       "The Lone Ranger                                     6.5   89289910.0   \n",
       "The Chronicles of Narnia: Prince Caspian            6.6  141614023.0   \n",
       "Pirates of the Caribbean: On Stranger Tides         6.7  241063875.0   \n",
       "Men in Black 3                                      6.8  179020854.0   \n",
       "Robin Hood                                          6.7  105219735.0   \n",
       "The Golden Compass                                  6.1   70083519.0   \n",
       "Cars 2                                              6.3  191450875.0   \n",
       "Terminator Salvation                                6.6  125320003.0   \n",
       "Jack the Giant Slayer                               6.3   65171860.0   \n",
       "Prince of Persia: The Sands of Time                 6.6   90755643.0   \n",
       "Pacific Rim                                         7.0  101785482.0   \n",
       "Star Trek Beyond                                    7.5  130468626.0   \n",
       "A Christmas Carol                                   6.8  137850096.0   \n",
       "The Legend of Tarzan                                6.6  124051759.0   \n",
       "X-Men: Apocalypse                                   7.3  154985087.0   \n",
       "Hugo                                                7.5   73820094.0   \n",
       "Suicide Squad                                       6.9  161087183.0   \n",
       "Edge of Tomorrow                                    7.9  100189501.0   \n",
       "Waterworld                                          6.1   88246220.0   \n",
       "Snow White and the Huntsman                         6.1  155111815.0   \n",
       "47 Ronin                                            6.3   38297305.0   \n",
       "Tomorrowland                                        6.5   93417865.0   \n",
       "The Polar Express                                   6.6     665426.0   \n",
       "Terminator 3: Rise of the Machines                  6.4  150350192.0   \n",
       "The Curious Case of Benjamin Button                 7.8  127490802.0   \n",
       "...                                                 ...          ...   \n",
       "Bloody Sunday                                       7.7     768045.0   \n",
       "Conversations with Other Women                      7.1     379122.0   \n",
       "Poultrygeist: Night of the Chicken Dead             6.2      23000.0   \n",
       "As It Is in Heaven                                  7.6       9910.0   \n",
       "Blue Ruin                                           7.1     258113.0   \n",
       "The Beyond                                          6.9     126387.0   \n",
       "Maniac                                              6.1      12843.0   \n",
       "Censored Voices                                     7.2      34151.0   \n",
       "Murderball                                          7.8    1523883.0   \n",
       "Old Joy                                             6.7     255352.0   \n",
       "Ayurveda: Art of Being                              7.6      16892.0   \n",
       "Nothing But a Man                                   8.1      12438.0   \n",
       "Fighting Tommy Riley                                6.6       5199.0   \n",
       "Across the Universe                                 7.4   24343673.0   \n",
       "Love and Other Catastrophes                         6.4     212285.0   \n",
       "I Married a Strange Person!                         7.0     203134.0   \n",
       "Sugar Town                                          6.1     177840.0   \n",
       "The Sticky Fingers of Time                          6.3      18195.0   \n",
       "Burn                                                7.5     111300.0   \n",
       "Middle of Nowhere                                   6.5      78030.0   \n",
       "The Business of Fancydancing                        6.9     174682.0   \n",
       "The Trials of Darryl Hunt                           7.7       1111.0   \n",
       "The Woman Chaser                                    7.3     110720.0   \n",
       "The Horse Boy                                       7.4     155984.0   \n",
       "Antarctic Edge: 70° South                           7.0       4914.0   \n",
       "Top Spin                                            7.1       5858.0   \n",
       "Cheap Thrills                                       6.8      59379.0   \n",
       "Pink Narcissus                                      6.7       8231.0   \n",
       "The Cure                                            7.4      94596.0   \n",
       "Newlyweds                                           6.4       4584.0   \n",
       "\n",
       "                                                  budget  \n",
       "movie_title                                               \n",
       "Spectre                                      245000000.0  \n",
       "John Carter                                  263700000.0  \n",
       "Tangled                                      260000000.0  \n",
       "Superman Returns                             209000000.0  \n",
       "Quantum of Solace                            200000000.0  \n",
       "The Lone Ranger                              215000000.0  \n",
       "The Chronicles of Narnia: Prince Caspian     225000000.0  \n",
       "Pirates of the Caribbean: On Stranger Tides  250000000.0  \n",
       "Men in Black 3                               225000000.0  \n",
       "Robin Hood                                   200000000.0  \n",
       "The Golden Compass                           180000000.0  \n",
       "Cars 2                                       200000000.0  \n",
       "Terminator Salvation                         200000000.0  \n",
       "Jack the Giant Slayer                        195000000.0  \n",
       "Prince of Persia: The Sands of Time          200000000.0  \n",
       "Pacific Rim                                  190000000.0  \n",
       "Star Trek Beyond                             185000000.0  \n",
       "A Christmas Carol                            200000000.0  \n",
       "The Legend of Tarzan                         180000000.0  \n",
       "X-Men: Apocalypse                            178000000.0  \n",
       "Hugo                                         170000000.0  \n",
       "Suicide Squad                                175000000.0  \n",
       "Edge of Tomorrow                             178000000.0  \n",
       "Waterworld                                   175000000.0  \n",
       "Snow White and the Huntsman                  170000000.0  \n",
       "47 Ronin                                     175000000.0  \n",
       "Tomorrowland                                 190000000.0  \n",
       "The Polar Express                            165000000.0  \n",
       "Terminator 3: Rise of the Machines           200000000.0  \n",
       "The Curious Case of Benjamin Button          150000000.0  \n",
       "...                                                  ...  \n",
       "Bloody Sunday                                  2000000.0  \n",
       "Conversations with Other Women                  450000.0  \n",
       "Poultrygeist: Night of the Chicken Dead         500000.0  \n",
       "As It Is in Heaven                            25000000.0  \n",
       "Blue Ruin                                      1066167.0  \n",
       "The Beyond                                      400000.0  \n",
       "Maniac                                         6000000.0  \n",
       "Censored Voices                                 450000.0  \n",
       "Murderball                                     1750211.0  \n",
       "Old Joy                                         300000.0  \n",
       "Ayurveda: Art of Being                          300000.0  \n",
       "Nothing But a Man                               160000.0  \n",
       "Fighting Tommy Riley                            200000.0  \n",
       "Across the Universe                           45000000.0  \n",
       "Love and Other Catastrophes                     250000.0  \n",
       "I Married a Strange Person!                     250000.0  \n",
       "Sugar Town                                      250000.0  \n",
       "The Sticky Fingers of Time                      250000.0  \n",
       "Burn                                            225000.0  \n",
       "Middle of Nowhere                               200000.0  \n",
       "The Business of Fancydancing                    200000.0  \n",
       "The Trials of Darryl Hunt                       200000.0  \n",
       "The Woman Chaser                               1200000.0  \n",
       "The Horse Boy                                   160000.0  \n",
       "Antarctic Edge: 70° South                       150000.0  \n",
       "Top Spin                                        150000.0  \n",
       "Cheap Thrills                                   200000.0  \n",
       "Pink Narcissus                                   27000.0  \n",
       "The Cure                                       1000000.0  \n",
       "Newlyweds                                         9000.0  \n",
       "\n",
       "[1225 rows x 3 columns]"
      ]
     },
     "execution_count": 156,
     "metadata": {},
     "output_type": "execute_result"
    }
   ],
   "source": [
    "false_positives = m[(m.imdb_score != np.nan) & (m.gross!= np.nan) & (m.budget != np.nan) & (m.imdb_score >=6) & (m.gross < m.budget)]\n",
    "false_positives[[\"imdb_score\", \"gross\", \"budget\"]]"
   ]
  },
  {
   "cell_type": "code",
   "execution_count": null,
   "metadata": {
    "collapsed": true
   },
   "outputs": [],
   "source": []
  }
 ],
 "metadata": {
  "kernelspec": {
   "display_name": "Python 3",
   "language": "python",
   "name": "python3"
  },
  "language_info": {
   "codemirror_mode": {
    "name": "ipython",
    "version": 3
   },
   "file_extension": ".py",
   "mimetype": "text/x-python",
   "name": "python",
   "nbconvert_exporter": "python",
   "pygments_lexer": "ipython3",
   "version": "3.5.1"
  }
 },
 "nbformat": 4,
 "nbformat_minor": 1
}
