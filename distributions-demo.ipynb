{
 "cells": [
  {
   "cell_type": "markdown",
   "metadata": {},
   "source": [
    "# Data Distribution"
   ]
  },
  {
   "cell_type": "code",
   "execution_count": 1,
   "metadata": {
    "collapsed": false,
    "scrolled": false
   },
   "outputs": [
    {
     "data": {
      "text/plain": [
       "Index(['Unnamed: 0', 'Term', 'StatedMonthlyIncome', 'LoanOriginalAmount',\n",
       "       'BorrowerAPR'],\n",
       "      dtype='object')"
      ]
     },
     "execution_count": 1,
     "metadata": {},
     "output_type": "execute_result"
    }
   ],
   "source": [
    "import pandas as pd\n",
    "import matplotlib.pyplot as plt\n",
    "import numpy as np\n",
    "\n",
    "loans = pd.read_csv(\"data/prosperLoanData_truncated.csv\")\n",
    "loans.columns"
   ]
  },
  {
   "cell_type": "code",
   "execution_count": 2,
   "metadata": {
    "collapsed": false
   },
   "outputs": [
    {
     "data": {
      "image/png": "[encoded data removed]",
      "text/plain": [
       "<matplotlib.figure.Figure at 0x10c0f9160>"
      ]
     },
     "metadata": {},
     "output_type": "display_data"
    }
   ],
   "source": [
    "plt.hist(loans.StatedMonthlyIncome)\n",
    "plt.show()"
   ]
  },
  {
   "cell_type": "code",
   "execution_count": 3,
   "metadata": {
    "collapsed": false
   },
   "outputs": [
    {
     "data": {
      "text/plain": [
       "17"
      ]
     },
     "execution_count": 3,
     "metadata": {},
     "output_type": "execute_result"
    }
   ],
   "source": [
    "sum(loans.StatedMonthlyIncome > 1E5)"
   ]
  },
  {
   "cell_type": "code",
   "execution_count": 4,
   "metadata": {
    "collapsed": false
   },
   "outputs": [
    {
     "name": "stdout",
     "output_type": "stream",
     "text": [
      "0.0 1750002.91667\n"
     ]
    }
   ],
   "source": [
    "print(loans.StatedMonthlyIncome.min(), loans.StatedMonthlyIncome.max())"
   ]
  },
  {
   "cell_type": "code",
   "execution_count": 5,
   "metadata": {
    "collapsed": false
   },
   "outputs": [
    {
     "name": "stdout",
     "output_type": "stream",
     "text": [
      "0          3083.333333\n",
      "1          6125.000000\n",
      "2          2083.333333\n",
      "3          2875.000000\n",
      "4          9583.333333\n",
      "5          8333.333333\n",
      "6          2083.333333\n",
      "7          3355.750000\n",
      "8          3333.333333\n",
      "9          3333.333333\n",
      "10         7500.000000\n",
      "11         1666.666667\n",
      "12         2416.666667\n",
      "13         5833.333333\n",
      "14        10833.333333\n",
      "15         5500.000000\n",
      "16         8291.666667\n",
      "17         5833.333333\n",
      "18         6250.000000\n",
      "19         3075.000000\n",
      "20         5166.666667\n",
      "21         3750.000000\n",
      "23         2500.000000\n",
      "24         2333.333333\n",
      "25         6974.000000\n",
      "26         3885.916667\n",
      "27         6666.666667\n",
      "28         3600.000000\n",
      "29        10416.666667\n",
      "30         3750.000000\n",
      "              ...     \n",
      "113907     2166.666667\n",
      "113908     2833.333333\n",
      "113909     3333.333333\n",
      "113910    18756.000000\n",
      "113911     3333.333333\n",
      "113912     2500.000000\n",
      "113913     9750.000000\n",
      "113914     2400.000000\n",
      "113915     4416.666667\n",
      "113916     4583.333333\n",
      "113917     1916.666667\n",
      "113918     5583.333333\n",
      "113919     2500.000000\n",
      "113920     5208.333333\n",
      "113921    12500.000000\n",
      "113922     5250.000000\n",
      "113923     3966.666667\n",
      "113924     3208.333333\n",
      "113925     2333.333333\n",
      "113926     5416.666667\n",
      "113927    10333.333333\n",
      "113928     2333.333333\n",
      "113929     4333.333333\n",
      "113930     6250.000000\n",
      "113931     8146.666667\n",
      "113932     4333.333333\n",
      "113933     8041.666667\n",
      "113934     2875.000000\n",
      "113935     3875.000000\n",
      "113936     4583.333333\n",
      "Name: StatedMonthlyIncome, dtype: float64\n"
     ]
    },
    {
     "data": {
      "image/png": "[encoded data removed]",
      "text/plain": [
       "<matplotlib.figure.Figure at 0x10bbfb4e0>"
      ]
     },
     "metadata": {},
     "output_type": "display_data"
    }
   ],
   "source": [
    "data = loans.StatedMonthlyIncome[(loans.StatedMonthlyIncome > 500) & (loans.StatedMonthlyIncome < 40000)]\n",
    "print(data)\n",
    "\n",
    "plt.figure(figsize=(10, 3))\n",
    "plt.hist(data, bins=np.arange(0, 40000, 500), color=\"purple\")\n",
    "plt.xlabel(\"Stated Monthly Income\")\n",
    "plt.ylabel(\"Number of Borrowers\")\n",
    "plt.show()"
   ]
  },
  {
   "cell_type": "code",
   "execution_count": 30,
   "metadata": {
    "collapsed": false
   },
   "outputs": [],
   "source": [
    "heights, edges = np.histogram(data, bins=np.arange(0, 40000, 500))"
   ]
  },
  {
   "cell_type": "code",
   "execution_count": 42,
   "metadata": {
    "collapsed": false
   },
   "outputs": [],
   "source": [
    "probs = heights/sum(heights)"
   ]
  },
  {
   "cell_type": "code",
   "execution_count": 47,
   "metadata": {
    "collapsed": false
   },
   "outputs": [
    {
     "data": {
      "image/png": "[encoded data removed]",
      "text/plain": [
       "<matplotlib.figure.Figure at 0x1079696d8>"
      ]
     },
     "metadata": {},
     "output_type": "display_data"
    }
   ],
   "source": [
    "# Charting probability\n",
    "plt.figure(figsize=(10, 3))\n",
    "plt.bar(edges[:-1], probs, width=edges[1] - edges[0], color=\"purple\")\n",
    "plt.show()"
   ]
  },
  {
   "cell_type": "code",
   "execution_count": 57,
   "metadata": {
    "collapsed": false
   },
   "outputs": [
    {
     "data": {
      "image/png": "[encoded data removed]",
      "text/plain": [
       "<matplotlib.figure.Figure at 0x107965d68>"
      ]
     },
     "metadata": {},
     "output_type": "display_data"
    }
   ],
   "source": [
    "# what percentage of data is captured between zero and some data\n",
    "plt.figure(figsize=(10, 3))\n",
    "plt.bar(edges[:-1], probs.cumsum(), width=edges[1] - edges[0], color=\"green\")\n",
    "plt.plot([0, 40000], [0.5, 0.5])\n",
    "plt.plot([0, 40000], [0.75, 0.75], color=\"red\")\n",
    "\n",
    "plt.show()"
   ]
  },
  {
   "cell_type": "code",
   "execution_count": 63,
   "metadata": {
    "collapsed": false
   },
   "outputs": [
    {
     "name": "stderr",
     "output_type": "stream",
     "text": [
      "/Users/seleniumk/.virtualenvs/data_analysis/lib/python3.5/site-packages/ipykernel/__main__.py:1: VisibleDeprecationWarning: boolean index did not match indexed array along dimension 0; dimension is 79 but corresponding boolean dimension is 80\n",
      "  if __name__ == '__main__':\n"
     ]
    },
    {
     "data": {
      "text/plain": [
       "array([ 0.25554191])"
      ]
     },
     "execution_count": 63,
     "metadata": {},
     "output_type": "execute_result"
    }
   ],
   "source": [
    "probs.cumsum()[edges == 6000] - probs.cumsum()[edges == 4000]"
   ]
  },
  {
   "cell_type": "code",
   "execution_count": null,
   "metadata": {
    "collapsed": true
   },
   "outputs": [],
   "source": []
  }
 ],
 "metadata": {
  "kernelspec": {
   "display_name": "Python 3",
   "language": "python",
   "name": "python3"
  },
  "language_info": {
   "codemirror_mode": {
    "name": "ipython",
    "version": 3
   },
   "file_extension": ".py",
   "mimetype": "text/x-python",
   "name": "python",
   "nbconvert_exporter": "python",
   "pygments_lexer": "ipython3",
   "version": "3.5.1"
  }
 },
 "nbformat": 4,
 "nbformat_minor": 1
}
