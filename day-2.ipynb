{
 "cells": [
  {
   "cell_type": "code",
   "execution_count": 34,
   "metadata": {
    "collapsed": true
   },
   "outputs": [],
   "source": [
    "import pandas as pd\n",
    "import random"
   ]
  },
  {
   "cell_type": "code",
   "execution_count": 35,
   "metadata": {
    "collapsed": true
   },
   "outputs": [],
   "source": [
    "randos = pd.Series([random.randint(0, 100) for _ in range (20)])"
   ]
  },
  {
   "cell_type": "code",
   "execution_count": 36,
   "metadata": {
    "collapsed": false
   },
   "outputs": [
    {
     "data": {
      "text/plain": [
       "4     1849\n",
       "7     1600\n",
       "8     1225\n",
       "11     144\n",
       "15     784\n",
       "17    2209\n",
       "18     676\n",
       "19     784\n",
       "dtype: int64"
      ]
     },
     "execution_count": 36,
     "metadata": {},
     "output_type": "execute_result"
    }
   ],
   "source": [
    "randos[(randos < 50) & (randos > 10)]**2\n"
   ]
  },
  {
   "cell_type": "code",
   "execution_count": 37,
   "metadata": {
    "collapsed": false
   },
   "outputs": [
    {
     "data": {
      "text/plain": [
       "9      9\n",
       "11    12\n",
       "18    26\n",
       "15    28\n",
       "19    28\n",
       "8     35\n",
       "7     40\n",
       "4     43\n",
       "17    47\n",
       "2     53\n",
       "13    61\n",
       "6     64\n",
       "12    69\n",
       "14    69\n",
       "0     70\n",
       "16    84\n",
       "5     92\n",
       "10    92\n",
       "3     93\n",
       "1     96\n",
       "dtype: int64"
      ]
     },
     "execution_count": 37,
     "metadata": {},
     "output_type": "execute_result"
    }
   ],
   "source": [
    "randos[randos.argsort()]"
   ]
  },
  {
   "cell_type": "code",
   "execution_count": 38,
   "metadata": {
    "collapsed": false
   },
   "outputs": [
    {
     "data": {
      "text/plain": [
       "count    20.000000\n",
       "mean     55.550000\n",
       "std      27.656683\n",
       "min       9.000000\n",
       "25%      33.250000\n",
       "50%      57.000000\n",
       "75%      73.500000\n",
       "max      96.000000\n",
       "dtype: float64"
      ]
     },
     "execution_count": 38,
     "metadata": {},
     "output_type": "execute_result"
    }
   ],
   "source": [
    "randos.describe()"
   ]
  },
  {
   "cell_type": "code",
   "execution_count": 39,
   "metadata": {
    "collapsed": true
   },
   "outputs": [],
   "source": [
    "states_dict = {\n",
    "    \"states\": [\"New York\", \"California\", \"Texas\", \"Florida\", \"New Jersey\", \"Washington\"],\n",
    "    \"capital\": [\"New York City\", \"Sacramento\", \"Austin\", \"Tallahassee\", \"Trenton\", \"Olympia\"],\n",
    "    \"population\": [19750000, 38800000, 26960000, 19890000, 8938000, 7062000]\n",
    "}"
   ]
  },
  {
   "cell_type": "code",
   "execution_count": 40,
   "metadata": {
    "collapsed": false
   },
   "outputs": [],
   "source": [
    "states_df = pd.DataFrame(states_dict)"
   ]
  },
  {
   "cell_type": "code",
   "execution_count": 41,
   "metadata": {
    "collapsed": false
   },
   "outputs": [
    {
     "data": {
      "text/plain": [
       "0    New York City\n",
       "1       Sacramento\n",
       "2           Austin\n",
       "3      Tallahassee\n",
       "4          Trenton\n",
       "5          Olympia\n",
       "Name: capital, dtype: object"
      ]
     },
     "execution_count": 41,
     "metadata": {},
     "output_type": "execute_result"
    }
   ],
   "source": [
    "states_df.capital"
   ]
  },
  {
   "cell_type": "code",
   "execution_count": 42,
   "metadata": {
    "collapsed": true
   },
   "outputs": [],
   "source": [
    "states_df.set_index(\"states\", inplace=True)"
   ]
  },
  {
   "cell_type": "code",
   "execution_count": 43,
   "metadata": {
    "collapsed": false
   },
   "outputs": [
    {
     "name": "stderr",
     "output_type": "stream",
     "text": [
      "/Users/seleniumk/.virtualenvs/data_analysis/lib/python3.5/site-packages/pandas/core/indexing.py:132: SettingWithCopyWarning: \n",
      "A value is trying to be set on a copy of a slice from a DataFrame\n",
      "\n",
      "See the caveats in the documentation: http://pandas.pydata.org/pandas-docs/stable/indexing.html#indexing-view-versus-copy\n",
      "  self._setitem_with_indexer(indexer, value)\n"
     ]
    }
   ],
   "source": [
    "states_df.capital.loc[\"New York\"] = \"Albany\""
   ]
  },
  {
   "cell_type": "code",
   "execution_count": 44,
   "metadata": {
    "collapsed": false
   },
   "outputs": [
    {
     "data": {
      "text/html": [
       "<div>\n",
       "<table border=\"1\" class=\"dataframe\">\n",
       "  <thead>\n",
       "    <tr style=\"text-align: right;\">\n",
       "      <th></th>\n",
       "      <th>capital</th>\n",
       "      <th>population</th>\n",
       "    </tr>\n",
       "    <tr>\n",
       "      <th>states</th>\n",
       "      <th></th>\n",
       "      <th></th>\n",
       "    </tr>\n",
       "  </thead>\n",
       "  <tbody>\n",
       "    <tr>\n",
       "      <th>New York</th>\n",
       "      <td>Albany</td>\n",
       "      <td>19750000</td>\n",
       "    </tr>\n",
       "    <tr>\n",
       "      <th>California</th>\n",
       "      <td>Sacramento</td>\n",
       "      <td>38800000</td>\n",
       "    </tr>\n",
       "    <tr>\n",
       "      <th>Texas</th>\n",
       "      <td>Austin</td>\n",
       "      <td>26960000</td>\n",
       "    </tr>\n",
       "    <tr>\n",
       "      <th>Florida</th>\n",
       "      <td>Tallahassee</td>\n",
       "      <td>19890000</td>\n",
       "    </tr>\n",
       "    <tr>\n",
       "      <th>New Jersey</th>\n",
       "      <td>Trenton</td>\n",
       "      <td>8938000</td>\n",
       "    </tr>\n",
       "    <tr>\n",
       "      <th>Washington</th>\n",
       "      <td>Olympia</td>\n",
       "      <td>7062000</td>\n",
       "    </tr>\n",
       "  </tbody>\n",
       "</table>\n",
       "</div>"
      ],
      "text/plain": [
       "                capital  population\n",
       "states                             \n",
       "New York         Albany    19750000\n",
       "California   Sacramento    38800000\n",
       "Texas            Austin    26960000\n",
       "Florida     Tallahassee    19890000\n",
       "New Jersey      Trenton     8938000\n",
       "Washington      Olympia     7062000"
      ]
     },
     "execution_count": 44,
     "metadata": {},
     "output_type": "execute_result"
    }
   ],
   "source": [
    "states_df"
   ]
  },
  {
   "cell_type": "code",
   "execution_count": 47,
   "metadata": {
    "collapsed": false
   },
   "outputs": [
    {
     "data": {
      "text/html": [
       "<div>\n",
       "<table border=\"1\" class=\"dataframe\">\n",
       "  <thead>\n",
       "    <tr style=\"text-align: right;\">\n",
       "      <th></th>\n",
       "      <th>capital</th>\n",
       "      <th>population</th>\n",
       "      <th>time zones</th>\n",
       "    </tr>\n",
       "    <tr>\n",
       "      <th>states</th>\n",
       "      <th></th>\n",
       "      <th></th>\n",
       "      <th></th>\n",
       "    </tr>\n",
       "  </thead>\n",
       "  <tbody>\n",
       "    <tr>\n",
       "      <th>New York</th>\n",
       "      <td>Albany</td>\n",
       "      <td>19750000</td>\n",
       "      <td>EST</td>\n",
       "    </tr>\n",
       "    <tr>\n",
       "      <th>California</th>\n",
       "      <td>Sacramento</td>\n",
       "      <td>38800000</td>\n",
       "      <td>PST</td>\n",
       "    </tr>\n",
       "    <tr>\n",
       "      <th>Texas</th>\n",
       "      <td>Austin</td>\n",
       "      <td>26960000</td>\n",
       "      <td>CST</td>\n",
       "    </tr>\n",
       "    <tr>\n",
       "      <th>Florida</th>\n",
       "      <td>Tallahassee</td>\n",
       "      <td>19890000</td>\n",
       "      <td>EST</td>\n",
       "    </tr>\n",
       "    <tr>\n",
       "      <th>New Jersey</th>\n",
       "      <td>Trenton</td>\n",
       "      <td>8938000</td>\n",
       "      <td>EST</td>\n",
       "    </tr>\n",
       "    <tr>\n",
       "      <th>Washington</th>\n",
       "      <td>Olympia</td>\n",
       "      <td>7062000</td>\n",
       "      <td>PST</td>\n",
       "    </tr>\n",
       "  </tbody>\n",
       "</table>\n",
       "</div>"
      ],
      "text/plain": [
       "                capital  population time zones\n",
       "states                                        \n",
       "New York         Albany    19750000        EST\n",
       "California   Sacramento    38800000        PST\n",
       "Texas            Austin    26960000        CST\n",
       "Florida     Tallahassee    19890000        EST\n",
       "New Jersey      Trenton     8938000        EST\n",
       "Washington      Olympia     7062000        PST"
      ]
     },
     "execution_count": 47,
     "metadata": {},
     "output_type": "execute_result"
    }
   ],
   "source": [
    "states_df[\"time zones\"] = [\"EST\", \"PST\", \"CST\", \"EST\", \"EST\", \"PST\"]\n",
    "states_df"
   ]
  },
  {
   "cell_type": "code",
   "execution_count": 49,
   "metadata": {
    "collapsed": false
   },
   "outputs": [
    {
     "data": {
      "text/html": [
       "<div>\n",
       "<table border=\"1\" class=\"dataframe\">\n",
       "  <thead>\n",
       "    <tr style=\"text-align: right;\">\n",
       "      <th></th>\n",
       "      <th>capital</th>\n",
       "      <th>population</th>\n",
       "      <th>time zones</th>\n",
       "      <th>pop per mil</th>\n",
       "    </tr>\n",
       "    <tr>\n",
       "      <th>states</th>\n",
       "      <th></th>\n",
       "      <th></th>\n",
       "      <th></th>\n",
       "      <th></th>\n",
       "    </tr>\n",
       "  </thead>\n",
       "  <tbody>\n",
       "    <tr>\n",
       "      <th>New York</th>\n",
       "      <td>Albany</td>\n",
       "      <td>19750000</td>\n",
       "      <td>EST</td>\n",
       "      <td>19.750</td>\n",
       "    </tr>\n",
       "    <tr>\n",
       "      <th>California</th>\n",
       "      <td>Sacramento</td>\n",
       "      <td>38800000</td>\n",
       "      <td>PST</td>\n",
       "      <td>38.800</td>\n",
       "    </tr>\n",
       "    <tr>\n",
       "      <th>Texas</th>\n",
       "      <td>Austin</td>\n",
       "      <td>26960000</td>\n",
       "      <td>CST</td>\n",
       "      <td>26.960</td>\n",
       "    </tr>\n",
       "    <tr>\n",
       "      <th>Florida</th>\n",
       "      <td>Tallahassee</td>\n",
       "      <td>19890000</td>\n",
       "      <td>EST</td>\n",
       "      <td>19.890</td>\n",
       "    </tr>\n",
       "    <tr>\n",
       "      <th>New Jersey</th>\n",
       "      <td>Trenton</td>\n",
       "      <td>8938000</td>\n",
       "      <td>EST</td>\n",
       "      <td>8.938</td>\n",
       "    </tr>\n",
       "    <tr>\n",
       "      <th>Washington</th>\n",
       "      <td>Olympia</td>\n",
       "      <td>7062000</td>\n",
       "      <td>PST</td>\n",
       "      <td>7.062</td>\n",
       "    </tr>\n",
       "  </tbody>\n",
       "</table>\n",
       "</div>"
      ],
      "text/plain": [
       "                capital  population time zones  pop per mil\n",
       "states                                                     \n",
       "New York         Albany    19750000        EST       19.750\n",
       "California   Sacramento    38800000        PST       38.800\n",
       "Texas            Austin    26960000        CST       26.960\n",
       "Florida     Tallahassee    19890000        EST       19.890\n",
       "New Jersey      Trenton     8938000        EST        8.938\n",
       "Washington      Olympia     7062000        PST        7.062"
      ]
     },
     "execution_count": 49,
     "metadata": {},
     "output_type": "execute_result"
    }
   ],
   "source": [
    "states_df[\"pop per mil\"] = states_df.population / 1E6\n",
    "states_df"
   ]
  },
  {
   "cell_type": "code",
   "execution_count": 51,
   "metadata": {
    "collapsed": false
   },
   "outputs": [
    {
     "data": {
      "text/html": [
       "<div>\n",
       "<table border=\"1\" class=\"dataframe\">\n",
       "  <thead>\n",
       "    <tr style=\"text-align: right;\">\n",
       "      <th></th>\n",
       "      <th>capital</th>\n",
       "      <th>population</th>\n",
       "      <th>time zones</th>\n",
       "      <th>pop per mil</th>\n",
       "    </tr>\n",
       "    <tr>\n",
       "      <th>states</th>\n",
       "      <th></th>\n",
       "      <th></th>\n",
       "      <th></th>\n",
       "      <th></th>\n",
       "    </tr>\n",
       "  </thead>\n",
       "  <tbody>\n",
       "    <tr>\n",
       "      <th>New York</th>\n",
       "      <td>Albany</td>\n",
       "      <td>19750000</td>\n",
       "      <td>EST</td>\n",
       "      <td>19.750</td>\n",
       "    </tr>\n",
       "    <tr>\n",
       "      <th>California</th>\n",
       "      <td>Sacramento</td>\n",
       "      <td>38800000</td>\n",
       "      <td>PST</td>\n",
       "      <td>38.800</td>\n",
       "    </tr>\n",
       "    <tr>\n",
       "      <th>Texas</th>\n",
       "      <td>Austin</td>\n",
       "      <td>26960000</td>\n",
       "      <td>CST</td>\n",
       "      <td>26.960</td>\n",
       "    </tr>\n",
       "    <tr>\n",
       "      <th>Florida</th>\n",
       "      <td>Tallahassee</td>\n",
       "      <td>19890000</td>\n",
       "      <td>EST</td>\n",
       "      <td>19.890</td>\n",
       "    </tr>\n",
       "    <tr>\n",
       "      <th>New Jersey</th>\n",
       "      <td>Trenton</td>\n",
       "      <td>8938000</td>\n",
       "      <td>EST</td>\n",
       "      <td>8.938</td>\n",
       "    </tr>\n",
       "    <tr>\n",
       "      <th>Washington</th>\n",
       "      <td>Olympia</td>\n",
       "      <td>7062000</td>\n",
       "      <td>PST</td>\n",
       "      <td>7.062</td>\n",
       "    </tr>\n",
       "    <tr>\n",
       "      <th>Oregon</th>\n",
       "      <td>Olympia</td>\n",
       "      <td>7062000</td>\n",
       "      <td>PST</td>\n",
       "      <td>7.062</td>\n",
       "    </tr>\n",
       "  </tbody>\n",
       "</table>\n",
       "</div>"
      ],
      "text/plain": [
       "                capital  population time zones  pop per mil\n",
       "states                                                     \n",
       "New York         Albany    19750000        EST       19.750\n",
       "California   Sacramento    38800000        PST       38.800\n",
       "Texas            Austin    26960000        CST       26.960\n",
       "Florida     Tallahassee    19890000        EST       19.890\n",
       "New Jersey      Trenton     8938000        EST        8.938\n",
       "Washington      Olympia     7062000        PST        7.062\n",
       "Oregon          Olympia     7062000        PST        7.062"
      ]
     },
     "execution_count": 51,
     "metadata": {},
     "output_type": "execute_result"
    }
   ],
   "source": [
    "states_df.loc[\"Oregon\"] = states_df.loc[\"Washington\"]\n",
    "states_df"
   ]
  },
  {
   "cell_type": "code",
   "execution_count": 60,
   "metadata": {
    "collapsed": false
   },
   "outputs": [
    {
     "data": {
      "text/html": [
       "<div>\n",
       "<table border=\"1\" class=\"dataframe\">\n",
       "  <thead>\n",
       "    <tr style=\"text-align: right;\">\n",
       "      <th></th>\n",
       "      <th>capital</th>\n",
       "      <th>pop per mil</th>\n",
       "      <th>population</th>\n",
       "      <th>time zones</th>\n",
       "    </tr>\n",
       "    <tr>\n",
       "      <th>states</th>\n",
       "      <th></th>\n",
       "      <th></th>\n",
       "      <th></th>\n",
       "      <th></th>\n",
       "    </tr>\n",
       "  </thead>\n",
       "  <tbody>\n",
       "    <tr>\n",
       "      <th>New York</th>\n",
       "      <td>Albany</td>\n",
       "      <td>19.750</td>\n",
       "      <td>19750000</td>\n",
       "      <td>EST</td>\n",
       "    </tr>\n",
       "    <tr>\n",
       "      <th>California</th>\n",
       "      <td>Sacramento</td>\n",
       "      <td>38.800</td>\n",
       "      <td>38800000</td>\n",
       "      <td>PST</td>\n",
       "    </tr>\n",
       "    <tr>\n",
       "      <th>Texas</th>\n",
       "      <td>Austin</td>\n",
       "      <td>26.960</td>\n",
       "      <td>26960000</td>\n",
       "      <td>CST</td>\n",
       "    </tr>\n",
       "    <tr>\n",
       "      <th>Florida</th>\n",
       "      <td>Tallahassee</td>\n",
       "      <td>19.890</td>\n",
       "      <td>19890000</td>\n",
       "      <td>EST</td>\n",
       "    </tr>\n",
       "    <tr>\n",
       "      <th>New Jersey</th>\n",
       "      <td>Trenton</td>\n",
       "      <td>8.938</td>\n",
       "      <td>8938000</td>\n",
       "      <td>EST</td>\n",
       "    </tr>\n",
       "    <tr>\n",
       "      <th>Washington</th>\n",
       "      <td>Olympia</td>\n",
       "      <td>7.062</td>\n",
       "      <td>7062000</td>\n",
       "      <td>PST</td>\n",
       "    </tr>\n",
       "    <tr>\n",
       "      <th>Oregon</th>\n",
       "      <td>Olympia</td>\n",
       "      <td>7.062</td>\n",
       "      <td>7062000</td>\n",
       "      <td>PST</td>\n",
       "    </tr>\n",
       "    <tr>\n",
       "      <th>IL</th>\n",
       "      <td>Springfield</td>\n",
       "      <td>1.000</td>\n",
       "      <td>20000000</td>\n",
       "      <td>CST</td>\n",
       "    </tr>\n",
       "  </tbody>\n",
       "</table>\n",
       "</div>"
      ],
      "text/plain": [
       "                capital  pop per mil population time zones\n",
       "states                                                    \n",
       "New York         Albany       19.750   19750000        EST\n",
       "California   Sacramento       38.800   38800000        PST\n",
       "Texas            Austin       26.960   26960000        CST\n",
       "Florida     Tallahassee       19.890   19890000        EST\n",
       "New Jersey      Trenton        8.938    8938000        EST\n",
       "Washington      Olympia        7.062    7062000        PST\n",
       "Oregon          Olympia        7.062    7062000        PST\n",
       "IL          Springfield        1.000   20000000        CST"
      ]
     },
     "execution_count": 60,
     "metadata": {},
     "output_type": "execute_result"
    }
   ],
   "source": [
    "new_row = {\"capital\": [\"Springfield\"], \"population\": [\"20000000\"], \"time zones\": [\"CST\"], \"pop per mil\": [1], \"states\": [\"IL\"]}\n",
    "pd.concat([states_df, pd.DataFrame(new_row).set_index(\"states\")])"
   ]
  },
  {
   "cell_type": "markdown",
   "metadata": {},
   "source": [
    "if you set axis=1, adds new columns if you have the same row names\n",
    "defaults to axis=0, adds new rows if you have the same column names"
   ]
  },
  {
   "cell_type": "markdown",
   "metadata": {},
   "source": [
    "## PandaSql"
   ]
  },
  {
   "cell_type": "code",
   "execution_count": 61,
   "metadata": {
    "collapsed": true
   },
   "outputs": [],
   "source": [
    "import pandasql as sql"
   ]
  },
  {
   "cell_type": "code",
   "execution_count": 63,
   "metadata": {
    "collapsed": false
   },
   "outputs": [
    {
     "data": {
      "text/html": [
       "<div>\n",
       "<table border=\"1\" class=\"dataframe\">\n",
       "  <thead>\n",
       "    <tr style=\"text-align: right;\">\n",
       "      <th></th>\n",
       "      <th>states</th>\n",
       "      <th>capital</th>\n",
       "      <th>population</th>\n",
       "      <th>time zones</th>\n",
       "      <th>pop per mil</th>\n",
       "    </tr>\n",
       "  </thead>\n",
       "  <tbody>\n",
       "    <tr>\n",
       "      <th>0</th>\n",
       "      <td>New York</td>\n",
       "      <td>Albany</td>\n",
       "      <td>19750000</td>\n",
       "      <td>EST</td>\n",
       "      <td>19.750</td>\n",
       "    </tr>\n",
       "    <tr>\n",
       "      <th>1</th>\n",
       "      <td>California</td>\n",
       "      <td>Sacramento</td>\n",
       "      <td>38800000</td>\n",
       "      <td>PST</td>\n",
       "      <td>38.800</td>\n",
       "    </tr>\n",
       "    <tr>\n",
       "      <th>2</th>\n",
       "      <td>Texas</td>\n",
       "      <td>Austin</td>\n",
       "      <td>26960000</td>\n",
       "      <td>CST</td>\n",
       "      <td>26.960</td>\n",
       "    </tr>\n",
       "    <tr>\n",
       "      <th>3</th>\n",
       "      <td>Florida</td>\n",
       "      <td>Tallahassee</td>\n",
       "      <td>19890000</td>\n",
       "      <td>EST</td>\n",
       "      <td>19.890</td>\n",
       "    </tr>\n",
       "    <tr>\n",
       "      <th>4</th>\n",
       "      <td>New Jersey</td>\n",
       "      <td>Trenton</td>\n",
       "      <td>8938000</td>\n",
       "      <td>EST</td>\n",
       "      <td>8.938</td>\n",
       "    </tr>\n",
       "  </tbody>\n",
       "</table>\n",
       "</div>"
      ],
      "text/plain": [
       "       states      capital  population time zones  pop per mil\n",
       "0    New York       Albany    19750000        EST       19.750\n",
       "1  California   Sacramento    38800000        PST       38.800\n",
       "2       Texas       Austin    26960000        CST       26.960\n",
       "3     Florida  Tallahassee    19890000        EST       19.890\n",
       "4  New Jersey      Trenton     8938000        EST        8.938"
      ]
     },
     "execution_count": 63,
     "metadata": {},
     "output_type": "execute_result"
    }
   ],
   "source": [
    "sql.sqldf(\"SELECT * FROM states_df WHERE population > 7063000\")"
   ]
  },
  {
   "cell_type": "markdown",
   "metadata": {},
   "source": [
    "## Reading a CSV File"
   ]
  },
  {
   "cell_type": "code",
   "execution_count": 68,
   "metadata": {
    "collapsed": false
   },
   "outputs": [],
   "source": [
    "uber = pd.read_csv(\"data/Uber-Jan-Feb-FOIL.csv\")\n",
    "uber.date = pd.to_datetime(uber.date)\n"
   ]
  },
  {
   "cell_type": "markdown",
   "metadata": {},
   "source": [
    "## Writing to a JSON file"
   ]
  },
  {
   "cell_type": "code",
   "execution_count": 69,
   "metadata": {
    "collapsed": true
   },
   "outputs": [],
   "source": [
    "uber.to_json(\"sample.json\")"
   ]
  },
  {
   "cell_type": "markdown",
   "metadata": {},
   "source": [
    "## Writing to a CSV file"
   ]
  },
  {
   "cell_type": "code",
   "execution_count": 71,
   "metadata": {
    "collapsed": true
   },
   "outputs": [],
   "source": [
    "uber.to_csv(\"sample.csv\", index=False)\n",
    "# includes index numbers and empty column, set index to false"
   ]
  },
  {
   "cell_type": "markdown",
   "metadata": {},
   "source": [
    "## NaNs"
   ]
  },
  {
   "cell_type": "code",
   "execution_count": 73,
   "metadata": {
    "collapsed": true
   },
   "outputs": [],
   "source": [
    "import numpy as np"
   ]
  },
  {
   "cell_type": "code",
   "execution_count": 74,
   "metadata": {
    "collapsed": false
   },
   "outputs": [
    {
     "data": {
      "text/plain": [
       "float"
      ]
     },
     "execution_count": 74,
     "metadata": {},
     "output_type": "execute_result"
    }
   ],
   "source": [
    "type(np.nan)"
   ]
  },
  {
   "cell_type": "code",
   "execution_count": 75,
   "metadata": {
    "collapsed": false
   },
   "outputs": [
    {
     "data": {
      "text/plain": [
       "nan"
      ]
     },
     "execution_count": 75,
     "metadata": {},
     "output_type": "execute_result"
    }
   ],
   "source": [
    "np.nan + 5"
   ]
  },
  {
   "cell_type": "code",
   "execution_count": 76,
   "metadata": {
    "collapsed": false
   },
   "outputs": [
    {
     "data": {
      "text/plain": [
       "nan"
      ]
     },
     "execution_count": 76,
     "metadata": {},
     "output_type": "execute_result"
    }
   ],
   "source": [
    "np.infty/np.infty"
   ]
  },
  {
   "cell_type": "code",
   "execution_count": 77,
   "metadata": {
    "collapsed": false
   },
   "outputs": [
    {
     "data": {
      "text/plain": [
       "Index(['dispatching_base_number', 'date', 'active_vehicles', 'trips'], dtype='object')"
      ]
     },
     "execution_count": 77,
     "metadata": {},
     "output_type": "execute_result"
    }
   ],
   "source": [
    "uber.columns"
   ]
  },
  {
   "cell_type": "code",
   "execution_count": null,
   "metadata": {
    "collapsed": true
   },
   "outputs": [],
   "source": []
  }
 ],
 "metadata": {
  "kernelspec": {
   "display_name": "Python 3",
   "language": "python",
   "name": "python3"
  },
  "language_info": {
   "codemirror_mode": {
    "name": "ipython",
    "version": 3
   },
   "file_extension": ".py",
   "mimetype": "text/x-python",
   "name": "python",
   "nbconvert_exporter": "python",
   "pygments_lexer": "ipython3",
   "version": "3.5.1"
  }
 },
 "nbformat": 4,
 "nbformat_minor": 1
}
