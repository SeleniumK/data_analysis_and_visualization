{
 "cells": [
  {
   "cell_type": "markdown",
   "metadata": {},
   "source": [
    "# A Titanic Questions\n",
    "----------------------------\n",
    "##  Analysing the Passengers and Survivors of the Titanic\n",
    "\n",
    "\n",
    "### Selena Flannery -- November 17, 2016"
   ]
  },
  {
   "cell_type": "code",
   "execution_count": 23,
   "metadata": {
    "collapsed": true
   },
   "outputs": [],
   "source": [
    "import pandas as pd\n",
    "import matplotlib.pyplot as plt\n",
    "import numpy as np\n",
    "from sklearn.preprocessing import MinMaxScaler\n",
    "from sklearn.neighbors import KNeighborsClassifier\n",
    "from sklearn.model_selection import train_test_split"
   ]
  },
  {
   "cell_type": "code",
   "execution_count": 2,
   "metadata": {
    "collapsed": false
   },
   "outputs": [
    {
     "data": {
      "text/plain": [
       "Index(['PassengerId', 'Survived', 'Pclass', 'Name', 'Sex', 'Age', 'SibSp',\n",
       "       'Parch', 'Ticket', 'Fare', 'Cabin', 'Embarked'],\n",
       "      dtype='object')"
      ]
     },
     "execution_count": 2,
     "metadata": {},
     "output_type": "execute_result"
    }
   ],
   "source": [
    "filename = \"data/titanic_data.csv\"\n",
    "\n",
    "titanic = pd.read_csv(filename)\n",
    "titanic.columns"
   ]
  },
  {
   "cell_type": "markdown",
   "metadata": {},
   "source": [
    "Get rid of columns that won't have any correlation -- ID number, cabin number, ticket number'"
   ]
  },
  {
   "cell_type": "code",
   "execution_count": 3,
   "metadata": {
    "collapsed": false
   },
   "outputs": [],
   "source": [
    "titanic = titanic.drop(labels=[\"Cabin\", \"Ticket\", \"PassengerId\"], axis=1)"
   ]
  },
  {
   "cell_type": "markdown",
   "metadata": {},
   "source": [
    "## Data Munging"
   ]
  },
  {
   "cell_type": "markdown",
   "metadata": {},
   "source": [
    "Which columns have NaN values?"
   ]
  },
  {
   "cell_type": "code",
   "execution_count": 4,
   "metadata": {
    "collapsed": false
   },
   "outputs": [
    {
     "name": "stdout",
     "output_type": "stream",
     "text": [
      "Survived False\n",
      "Pclass False\n",
      "Name False\n",
      "Sex False\n",
      "Age True\n",
      "SibSp False\n",
      "Parch False\n",
      "Fare False\n",
      "Embarked True\n"
     ]
    }
   ],
   "source": [
    "for c in titanic.columns:\n",
    "    print(c, titanic[c].hasnans)"
   ]
  },
  {
   "cell_type": "markdown",
   "metadata": {},
   "source": [
    "The Age Column and the Embarked Column has NaNs....We will have to deal with this"
   ]
  },
  {
   "cell_type": "markdown",
   "metadata": {},
   "source": [
    "Let's look at the Age Column"
   ]
  },
  {
   "cell_type": "code",
   "execution_count": 5,
   "metadata": {
    "collapsed": false
   },
   "outputs": [
    {
     "name": "stdout",
     "output_type": "stream",
     "text": [
      "Total Rows Where Age is Null:  177\n"
     ]
    }
   ],
   "source": [
    "print(\"Total Rows Where Age is Null: \", sum(pd.isnull(titanic.Age)))"
   ]
  },
  {
   "cell_type": "markdown",
   "metadata": {},
   "source": [
    "Ugh. That is a lot of missing data"
   ]
  },
  {
   "cell_type": "code",
   "execution_count": 6,
   "metadata": {
    "collapsed": false
   },
   "outputs": [
    {
     "name": "stdout",
     "output_type": "stream",
     "text": [
      "Total Rows Where Age is Null:  0\n"
     ]
    }
   ],
   "source": [
    "titanic.Age = titanic.Age.fillna(titanic.Age.mean())\n",
    "print(\"Total Rows Where Age is Null: \", sum(pd.isnull(titanic.Age)))"
   ]
  },
  {
   "cell_type": "markdown",
   "metadata": {},
   "source": [
    "What does the Embarked column look like?"
   ]
  },
  {
   "cell_type": "code",
   "execution_count": 7,
   "metadata": {
    "collapsed": false
   },
   "outputs": [
    {
     "name": "stdout",
     "output_type": "stream",
     "text": [
      "Unique Embarked Values:  ['S' 'C' 'Q' nan]\n",
      "Total Rows Null:  2\n"
     ]
    }
   ],
   "source": [
    "print(\"Unique Embarked Values: \", titanic.Embarked.unique())\n",
    "print(\"Total Rows Null: \", sum(pd.isnull(titanic.Embarked)))"
   ]
  },
  {
   "cell_type": "code",
   "execution_count": 8,
   "metadata": {
    "collapsed": true
   },
   "outputs": [],
   "source": [
    "southampton = titanic.Embarked == \"S\"\n",
    "queenstown = titanic.Embarked == \"Q\"\n",
    "cherbourg = titanic.Embarked == \"C\"\n",
    "\n"
   ]
  },
  {
   "cell_type": "code",
   "execution_count": 9,
   "metadata": {
    "collapsed": false
   },
   "outputs": [],
   "source": [
    "bins = np.linspace(0, 300, 100)"
   ]
  },
  {
   "cell_type": "code",
   "execution_count": 10,
   "metadata": {
    "collapsed": false
   },
   "outputs": [
    {
     "data": {
      "image/png": "[encoded data removed]",
      "text/plain": [
       "<matplotlib.figure.Figure at 0x10b3e1a20>"
      ]
     },
     "metadata": {},
     "output_type": "display_data"
    }
   ],
   "source": [
    "fig = plt.figure(figsize=(10,4))\n",
    "fig.subplots_adjust(hspace=0)\n",
    "plt.subplot(3, 1, 1)\n",
    "plt.hist(titanic[southampton].Fare, bins=bins)\n",
    "plt.text(340, 200, \"Southampton\", horizontalalignment=\"right\")\n",
    "plt.xticks([])\n",
    "\n",
    "plt.subplot(3, 1, 2)\n",
    "plt.hist(titanic[queenstown].Fare, bins=bins)\n",
    "plt.text(340, 50, \"Queenstown\", horizontalalignment=\"right\")\n",
    "plt.xticks([])\n",
    "\n",
    "plt.subplot(3, 1, 3)\n",
    "plt.hist(titanic[cherbourg].Fare, bins=bins)\n",
    "plt.text(340, 35, \"Cherbourg\", horizontalalignment=\"right\")\n",
    "\n",
    "plt.show()"
   ]
  },
  {
   "cell_type": "markdown",
   "metadata": {},
   "source": [
    "Most passengers embarked at southhampton, but if their ticket price was high the passenger seems to have come from Cherbourg, and if their ticket price was low they boarded at Queenstown"
   ]
  },
  {
   "cell_type": "code",
   "execution_count": 11,
   "metadata": {
    "collapsed": true
   },
   "outputs": [],
   "source": [
    "def fill_Embarked(x):\n",
    "    if pd.isnull(x.Embarked):\n",
    "        fare = x.Fare\n",
    "        if fare <= 20:\n",
    "            return \"Q\"\n",
    "        elif fare > 50:\n",
    "            return \"C\"\n",
    "        else:\n",
    "            return \"S\"\n",
    "    return x.Embarked"
   ]
  },
  {
   "cell_type": "code",
   "execution_count": 12,
   "metadata": {
    "collapsed": false
   },
   "outputs": [],
   "source": [
    "# This works, but seems messy\n",
    "# titanic.Embarked = [fill_Embarked(titanic.loc[i]) for i in range(len(titanic))]"
   ]
  },
  {
   "cell_type": "code",
   "execution_count": 13,
   "metadata": {
    "collapsed": false
   },
   "outputs": [
    {
     "data": {
      "text/plain": [
       "2"
      ]
     },
     "execution_count": 13,
     "metadata": {},
     "output_type": "execute_result"
    }
   ],
   "source": [
    "titanic.apply(fill_Embarked, axis=1)\n",
    "sum(pd.isnull(titanic.Embarked))"
   ]
  },
  {
   "cell_type": "markdown",
   "metadata": {},
   "source": [
    "## Rescaling our Data"
   ]
  },
  {
   "cell_type": "markdown",
   "metadata": {},
   "source": [
    "Let's make our data a little easier to compare."
   ]
  },
  {
   "cell_type": "code",
   "execution_count": 14,
   "metadata": {
    "collapsed": true
   },
   "outputs": [],
   "source": [
    "def rescale(xval, xdata):\n",
    "    \"\"\"Rescale xval with respect to all of the xdata\"\"\"\n",
    "    top = xval - min(xdata)\n",
    "    bottom = max(xdata) - min(xdata)\n",
    "    return top/bottom"
   ]
  },
  {
   "cell_type": "code",
   "execution_count": 15,
   "metadata": {
    "collapsed": false
   },
   "outputs": [
    {
     "data": {
      "text/plain": [
       "22.0"
      ]
     },
     "execution_count": 15,
     "metadata": {},
     "output_type": "execute_result"
    }
   ],
   "source": [
    "titanic.Age[0]"
   ]
  },
  {
   "cell_type": "code",
   "execution_count": 16,
   "metadata": {
    "collapsed": false
   },
   "outputs": [
    {
     "data": {
      "text/plain": [
       "0.27117366172405127"
      ]
     },
     "execution_count": 16,
     "metadata": {},
     "output_type": "execute_result"
    }
   ],
   "source": [
    "rescale(titanic.Age[0], titanic.Age)"
   ]
  },
  {
   "cell_type": "code",
   "execution_count": 17,
   "metadata": {
    "collapsed": false
   },
   "outputs": [
    {
     "data": {
      "text/plain": [
       "0.014151057562208049"
      ]
     },
     "execution_count": 17,
     "metadata": {},
     "output_type": "execute_result"
    }
   ],
   "source": [
    "rescale(titanic.Fare[0], titanic.Fare)"
   ]
  },
  {
   "cell_type": "code",
   "execution_count": 18,
   "metadata": {
    "collapsed": false
   },
   "outputs": [
    {
     "data": {
      "image/png": "[encoded data removed]",
      "text/plain": [
       "<matplotlib.figure.Figure at 0x10b26fcc0>"
      ]
     },
     "metadata": {},
     "output_type": "display_data"
    }
   ],
   "source": [
    "plt.figure(figsize=(14, 3))\n",
    "ax = plt.subplot(1, 2, 1) # before\n",
    "ax.scatter(titanic.Age, titanic.Fare, edgecolor=\"None\")\n",
    "ax.text(0.9, 0.9, \"Normal\", transform=ax.transAxes, horizontalalignment=\"right\")\n",
    "\n",
    "ax = plt.subplot(1, 2, 2) # after\n",
    "ax.scatter(rescale(titanic.Age, titanic.Age), rescale(titanic.Fare, titanic.Fare), edgecolor=\"None\")\n",
    "ax.text(0.9, 0.9, \"Rescaled\", transform=ax.transAxes, horizontalalignment=\"right\")\n",
    "\n",
    "plt.show()"
   ]
  },
  {
   "cell_type": "markdown",
   "metadata": {},
   "source": [
    "These look approximately the same, but the x and y scale are more easily compared"
   ]
  },
  {
   "cell_type": "markdown",
   "metadata": {},
   "source": [
    "### Rescale Data with Sci Kit Learn"
   ]
  },
  {
   "cell_type": "markdown",
   "metadata": {},
   "source": [
    "Transform data to a zero to 1 scale"
   ]
  },
  {
   "cell_type": "code",
   "execution_count": 19,
   "metadata": {
    "collapsed": false
   },
   "outputs": [
    {
     "data": {
      "text/plain": [
       "array([[ 0.27117366],\n",
       "       [ 0.4722292 ],\n",
       "       [ 0.32143755],\n",
       "       [ 0.43453129],\n",
       "       [ 0.43453129],\n",
       "       [ 0.36792055],\n",
       "       [ 0.67328474],\n",
       "       [ 0.01985423],\n",
       "       [ 0.33400352],\n",
       "       [ 0.17064589],\n",
       "       [ 0.04498618],\n",
       "       [ 0.72354863],\n",
       "       [ 0.24604172],\n",
       "       [ 0.48479517],\n",
       "       [ 0.17064589],\n",
       "       [ 0.68585072],\n",
       "       [ 0.01985423],\n",
       "       [ 0.36792055],\n",
       "       [ 0.3842674 ],\n",
       "       [ 0.36792055],\n",
       "       [ 0.43453129],\n",
       "       [ 0.42196532],\n",
       "       [ 0.18321186],\n",
       "       [ 0.34656949],\n",
       "       [ 0.09525006],\n",
       "       [ 0.4722292 ],\n",
       "       [ 0.36792055],\n",
       "       [ 0.23347575],\n",
       "       [ 0.36792055],\n",
       "       [ 0.36792055],\n",
       "       [ 0.49736115],\n",
       "       [ 0.36792055],\n",
       "       [ 0.36792055],\n",
       "       [ 0.8240764 ],\n",
       "       [ 0.34656949],\n",
       "       [ 0.52249309],\n",
       "       [ 0.36792055],\n",
       "       [ 0.25860769],\n",
       "       [ 0.22090978],\n",
       "       [ 0.17064589],\n",
       "       [ 0.49736115],\n",
       "       [ 0.33400352],\n",
       "       [ 0.36792055],\n",
       "       [ 0.03242021],\n",
       "       [ 0.23347575],\n",
       "       [ 0.36792055],\n",
       "       [ 0.36792055],\n",
       "       [ 0.36792055],\n",
       "       [ 0.36792055],\n",
       "       [ 0.22090978],\n",
       "       [ 0.08268409],\n",
       "       [ 0.25860769],\n",
       "       [ 0.61045489],\n",
       "       [ 0.35913546],\n",
       "       [ 0.81151043],\n",
       "       [ 0.36792055],\n",
       "       [ 0.25860769],\n",
       "       [ 0.35285248],\n",
       "       [ 0.05755215],\n",
       "       [ 0.13294798],\n",
       "       [ 0.27117366],\n",
       "       [ 0.4722292 ],\n",
       "       [ 0.560191  ],\n",
       "       [ 0.04498618],\n",
       "       [ 0.36792055],\n",
       "       [ 0.36792055],\n",
       "       [ 0.35913546],\n",
       "       [ 0.23347575],\n",
       "       [ 0.2083438 ],\n",
       "       [ 0.32143755],\n",
       "       [ 0.39683338],\n",
       "       [ 0.19577783],\n",
       "       [ 0.25860769],\n",
       "       [ 0.32143755],\n",
       "       [ 0.39683338],\n",
       "       [ 0.30887158],\n",
       "       [ 0.36792055],\n",
       "       [ 0.36792055],\n",
       "       [ 0.00515205],\n",
       "       [ 0.37170143],\n",
       "       [ 0.27117366],\n",
       "       [ 0.35913546],\n",
       "       [ 0.36792055],\n",
       "       [ 0.34656949],\n",
       "       [ 0.2083438 ],\n",
       "       [ 0.40939935],\n",
       "       [ 0.19577783],\n",
       "       [ 0.36792055],\n",
       "       [ 0.28373963],\n",
       "       [ 0.2963056 ],\n",
       "       [ 0.35913546],\n",
       "       [ 0.24604172],\n",
       "       [ 0.57275697],\n",
       "       [ 0.32143755],\n",
       "       [ 0.7361146 ],\n",
       "       [ 0.36792055],\n",
       "       [ 0.88690626],\n",
       "       [ 0.28373963],\n",
       "       [ 0.42196532],\n",
       "       [ 0.42196532],\n",
       "       [ 0.34656949],\n",
       "       [ 0.36792055],\n",
       "       [ 0.25860769],\n",
       "       [ 0.40939935],\n",
       "       [ 0.45966323],\n",
       "       [ 0.34656949],\n",
       "       [ 0.25860769],\n",
       "       [ 0.36792055],\n",
       "       [ 0.4722292 ],\n",
       "       [ 0.36792055],\n",
       "       [ 0.58532295],\n",
       "       [ 0.17692888],\n",
       "       [ 0.27117366],\n",
       "       [ 0.24604172],\n",
       "       [ 0.2083438 ],\n",
       "       [ 0.25860769],\n",
       "       [ 0.88062327],\n",
       "       [ 0.35913546],\n",
       "       [ 0.2963056 ],\n",
       "       [ 0.01985423],\n",
       "       [ 0.25860769],\n",
       "       [ 0.36792055],\n",
       "       [ 0.40311636],\n",
       "       [ 0.40311636],\n",
       "       [ 0.67328474],\n",
       "       [ 0.14551395],\n",
       "       [ 0.36792055],\n",
       "       [ 0.2963056 ],\n",
       "       [ 0.36792055],\n",
       "       [ 0.560191  ],\n",
       "       [ 0.40939935],\n",
       "       [ 0.24604172],\n",
       "       [ 0.58532295],\n",
       "       [ 0.35913546],\n",
       "       [ 0.30887158],\n",
       "       [ 0.28373963],\n",
       "       [ 0.23347575],\n",
       "       [ 0.45966323],\n",
       "       [ 0.19577783],\n",
       "       [ 0.2963056 ],\n",
       "       [ 0.36792055],\n",
       "       [ 0.27117366],\n",
       "       [ 0.2963056 ],\n",
       "       [ 0.23347575],\n",
       "       [ 0.22090978],\n",
       "       [ 0.23347575],\n",
       "       [ 0.33400352],\n",
       "       [ 0.10781603],\n",
       "       [ 0.45338025],\n",
       "       [ 0.52249309],\n",
       "       [ 0.63558683],\n",
       "       [ 0.27117366],\n",
       "       [ 0.6921337 ],\n",
       "       [ 0.50364413],\n",
       "       [ 0.36792055],\n",
       "       [ 0.63558683],\n",
       "       [ 0.19577783],\n",
       "       [ 0.37170143],\n",
       "       [ 0.36792055],\n",
       "       [ 0.36792055],\n",
       "       [ 0.54762503],\n",
       "       [ 0.49736115],\n",
       "       [ 0.32143755],\n",
       "       [ 0.2083438 ],\n",
       "       [ 0.00728826],\n",
       "       [ 0.10781603],\n",
       "       [ 0.36792055],\n",
       "       [ 0.560191  ],\n",
       "       [ 0.36792055],\n",
       "       [ 0.34656949],\n",
       "       [ 0.76124654],\n",
       "       [ 0.04498618],\n",
       "       [ 0.00728826],\n",
       "       [ 0.25860769],\n",
       "       [ 0.69841669],\n",
       "       [ 0.22090978],\n",
       "       [ 0.36792055],\n",
       "       [ 0.62302086],\n",
       "       [ 0.37170143],\n",
       "       [ 0.44709726],\n",
       "       [ 0.36792055],\n",
       "       [ 0.36792055],\n",
       "       [ 0.10781603],\n",
       "       [ 0.00728826],\n",
       "       [ 0.04498618],\n",
       "       [ 0.36792055],\n",
       "       [ 0.36792055],\n",
       "       [ 0.560191  ],\n",
       "       [ 0.49736115],\n",
       "       [ 0.44709726],\n",
       "       [ 0.39683338],\n",
       "       [ 0.23347575],\n",
       "       [ 0.23347575],\n",
       "       [ 0.03242021],\n",
       "       [ 0.54762503],\n",
       "       [ 0.72354863],\n",
       "       [ 0.36792055],\n",
       "       [ 0.52249309],\n",
       "       [ 0.36792055],\n",
       "       [ 0.2963056 ],\n",
       "       [ 0.34656949],\n",
       "       [ 0.36792055],\n",
       "       [ 0.42196532],\n",
       "       [ 0.56647399],\n",
       "       [ 0.22090978],\n",
       "       [ 0.01985423],\n",
       "       [ 0.39683338],\n",
       "       [ 0.32143755],\n",
       "       [ 0.19577783],\n",
       "       [ 0.49736115],\n",
       "       [ 0.2963056 ],\n",
       "       [ 0.43453129],\n",
       "       [ 0.27117366],\n",
       "       [ 0.37170143],\n",
       "       [ 0.36792055],\n",
       "       [ 0.3842674 ],\n",
       "       [ 0.33400352],\n",
       "       [ 0.52249309],\n",
       "       [ 0.39683338],\n",
       "       [ 0.37170143],\n",
       "       [ 0.19577783],\n",
       "       [ 0.33400352],\n",
       "       [ 0.63558683],\n",
       "       [ 0.36792055],\n",
       "       [ 0.4722292 ],\n",
       "       [ 0.27117366],\n",
       "       [ 0.23347575],\n",
       "       [ 0.2523247 ],\n",
       "       [ 0.22090978],\n",
       "       [ 0.36792055],\n",
       "       [ 0.43453129],\n",
       "       [ 0.35913546],\n",
       "       [ 0.7361146 ],\n",
       "       [ 0.05755215],\n",
       "       [ 0.2963056 ],\n",
       "       [ 0.36792055],\n",
       "       [ 0.54762503],\n",
       "       [ 0.09525006],\n",
       "       [ 0.23347575],\n",
       "       [ 0.40939935],\n",
       "       [ 0.36792055],\n",
       "       [ 0.36792055],\n",
       "       [ 0.35913546],\n",
       "       [ 0.27117366],\n",
       "       [ 0.37170143],\n",
       "       [ 0.54762503],\n",
       "       [ 0.30887158],\n",
       "       [ 0.2963056 ],\n",
       "       [ 0.45966323],\n",
       "       [ 0.67328474],\n",
       "       [ 0.36792055],\n",
       "       [ 0.35913546],\n",
       "       [ 0.77381252],\n",
       "       [ 0.37170143],\n",
       "       [ 0.50992712],\n",
       "       [ 0.35913546],\n",
       "       [ 0.36792055],\n",
       "       [ 0.37170143],\n",
       "       [ 0.43453129],\n",
       "       [ 0.62302086],\n",
       "       [ 0.36792055],\n",
       "       [ 0.03242021],\n",
       "       [ 0.6481528 ],\n",
       "       [ 0.49736115],\n",
       "       [ 0.36792055],\n",
       "       [ 0.44709726],\n",
       "       [ 0.19577783],\n",
       "       [ 0.30887158],\n",
       "       [ 0.72354863],\n",
       "       [ 0.43453129],\n",
       "       [ 0.36792055],\n",
       "       [ 0.30887158],\n",
       "       [ 0.50992712],\n",
       "       [ 0.45966323],\n",
       "       [ 0.36792055],\n",
       "       [ 0.78637849],\n",
       "       [ 0.560191  ],\n",
       "       [ 0.36792055],\n",
       "       [ 0.08268409],\n",
       "       [ 0.43453129],\n",
       "       [ 0.81151043],\n",
       "       [ 0.34656949],\n",
       "       [ 0.19577783],\n",
       "       [ 0.23347575],\n",
       "       [ 0.36792055],\n",
       "       [ 0.40939935],\n",
       "       [ 0.37170143],\n",
       "       [ 0.27117366],\n",
       "       [ 0.52249309],\n",
       "       [ 0.27117366],\n",
       "       [ 0.32143755],\n",
       "       [ 0.23347575],\n",
       "       [ 0.44709726],\n",
       "       [ 0.2963056 ],\n",
       "       [ 0.2963056 ],\n",
       "       [ 0.36792055],\n",
       "       [ 0.29002262],\n",
       "       [ 0.01985423],\n",
       "       [ 0.36792055],\n",
       "       [ 0.62302086],\n",
       "       [ 0.36792055],\n",
       "       [ 0.36792055],\n",
       "       [ 0.23347575],\n",
       "       [ 0.36792055],\n",
       "       [ 0.36792055],\n",
       "       [ 0.00628299],\n",
       "       [ 0.36792055],\n",
       "       [ 0.2083438 ],\n",
       "       [ 0.37170143],\n",
       "       [ 0.37170143],\n",
       "       [ 0.2963056 ],\n",
       "       [ 0.22090978],\n",
       "       [ 0.32143755],\n",
       "       [ 0.34656949],\n",
       "       [ 0.53505906],\n",
       "       [ 0.32143755],\n",
       "       [ 0.2963056 ],\n",
       "       [ 0.67328474],\n",
       "       [ 0.3842674 ],\n",
       "       [ 0.49736115],\n",
       "       [ 0.27117366],\n",
       "       [ 0.33400352],\n",
       "       [ 0.37170143],\n",
       "       [ 0.27117366],\n",
       "       [ 0.36792055],\n",
       "       [ 0.44709726],\n",
       "       [ 0.76124654],\n",
       "       [ 0.44709726],\n",
       "       [ 0.3842674 ],\n",
       "       [ 0.19577783],\n",
       "       [ 0.36792055],\n",
       "       [ 0.56647399],\n",
       "       [ 0.4722292 ],\n",
       "       [ 0.19577783],\n",
       "       [ 0.36792055],\n",
       "       [ 0.36792055],\n",
       "       [ 0.35913546],\n",
       "       [ 0.50992712],\n",
       "       [ 0.560191  ],\n",
       "       [ 0.560191  ],\n",
       "       [ 0.01985423],\n",
       "       [ 0.2963056 ],\n",
       "       [ 0.34656949],\n",
       "       [ 0.30887158],\n",
       "       [ 0.44709726],\n",
       "       [ 0.2963056 ],\n",
       "       [ 0.49736115],\n",
       "       [ 0.36792055],\n",
       "       [ 0.03242021],\n",
       "       [ 0.52249309],\n",
       "       [ 0.28373963],\n",
       "       [ 0.36792055],\n",
       "       [ 0.18321186],\n",
       "       [ 0.30887158],\n",
       "       [ 0.36792055],\n",
       "       [ 0.34656949],\n",
       "       [ 0.27117366],\n",
       "       [ 0.4722292 ],\n",
       "       [ 0.36792055],\n",
       "       [ 0.36792055],\n",
       "       [ 0.49736115],\n",
       "       [ 0.35913546],\n",
       "       [ 0.560191  ],\n",
       "       [ 0.43453129],\n",
       "       [ 0.36792055],\n",
       "       [ 0.37170143],\n",
       "       [ 0.74868057],\n",
       "       [ 0.36792055],\n",
       "       [ 0.36792055],\n",
       "       [ 0.2963056 ],\n",
       "       [ 0.30887158],\n",
       "       [ 0.22090978],\n",
       "       [ 0.23347575],\n",
       "       [ 0.27117366],\n",
       "       [ 0.03242021],\n",
       "       [ 0.36792055],\n",
       "       [ 0.27117366],\n",
       "       [ 0.33400352],\n",
       "       [ 0.24604172],\n",
       "       [ 0.23347575],\n",
       "       [ 0.52249309],\n",
       "       [ 0.00728826],\n",
       "       [ 0.39683338],\n",
       "       [ 0.43453129],\n",
       "       [ 0.36792055],\n",
       "       [ 0.22090978],\n",
       "       [ 0.00728826],\n",
       "       [ 0.44709726],\n",
       "       [ 0.36792055],\n",
       "       [ 0.2083438 ],\n",
       "       [ 0.44709726],\n",
       "       [ 0.25860769],\n",
       "       [ 0.34656949],\n",
       "       [ 0.28373963],\n",
       "       [ 0.2963056 ],\n",
       "       [ 0.27117366],\n",
       "       [ 0.3842674 ],\n",
       "       [ 0.57275697],\n",
       "       [ 0.28373963],\n",
       "       [ 0.34656949],\n",
       "       [ 0.48479517],\n",
       "       [ 0.32143755],\n",
       "       [ 0.25860769],\n",
       "       [ 0.34656949],\n",
       "       [ 0.24604172],\n",
       "       [ 0.42196532],\n",
       "       [ 0.63558683],\n",
       "       [ 0.03242021],\n",
       "       [ 0.25860769],\n",
       "       [ 0.36792055],\n",
       "       [ 0.36792055],\n",
       "       [ 0.36792055],\n",
       "       [ 0.40939935],\n",
       "       [ 0.36792055],\n",
       "       [ 0.54762503],\n",
       "       [ 0.36792055],\n",
       "       [ 0.42196532],\n",
       "       [ 0.22090978],\n",
       "       [ 0.37170143],\n",
       "       [ 0.12038201],\n",
       "       [ 0.36792055],\n",
       "       [ 0.25860769],\n",
       "       [ 0.35913546],\n",
       "       [ 0.34656949],\n",
       "       [ 0.22090978],\n",
       "       [ 0.36792055],\n",
       "       [ 0.34656949],\n",
       "       [ 0.23347575],\n",
       "       [ 0.36792055],\n",
       "       [ 0.39683338],\n",
       "       [ 0.34656949],\n",
       "       [ 0.36792055],\n",
       "       [ 0.52249309],\n",
       "       [ 0.2083438 ],\n",
       "       [ 0.62302086],\n",
       "       [ 0.17064589],\n",
       "       [ 0.25860769],\n",
       "       [ 0.2963056 ],\n",
       "       [ 0.79894446],\n",
       "       [ 0.3842674 ],\n",
       "       [ 0.560191  ],\n",
       "       [ 0.24604172],\n",
       "       [ 0.30887158],\n",
       "       [ 0.34656949],\n",
       "       [ 0.36792055],\n",
       "       [ 0.04498618],\n",
       "       [ 0.15807992],\n",
       "       [ 0.42196532],\n",
       "       [ 0.05755215],\n",
       "       [ 0.6481528 ],\n",
       "       [ 0.44709726],\n",
       "       [ 0.36792055],\n",
       "       [ 0.37170143],\n",
       "       [ 0.61045489],\n",
       "       [ 0.36792055],\n",
       "       [ 0.35913546],\n",
       "       [ 0.81151043],\n",
       "       [ 0.36792055],\n",
       "       [ 0.62302086],\n",
       "       [ 0.36792055],\n",
       "       [ 0.59788892],\n",
       "       [ 0.42196532],\n",
       "       [ 0.58532295],\n",
       "       [ 0.59788892],\n",
       "       [ 0.36792055],\n",
       "       [ 0.4722292 ],\n",
       "       [ 0.36792055],\n",
       "       [ 0.69841669],\n",
       "       [ 0.36792055],\n",
       "       [ 0.00414677],\n",
       "       [ 0.36792055],\n",
       "       [ 0.4722292 ],\n",
       "       [ 0.40939935],\n",
       "       [ 0.28373963],\n",
       "       [ 0.27117366],\n",
       "       [ 0.36792055],\n",
       "       [ 0.42196532],\n",
       "       [ 0.35913546],\n",
       "       [ 0.27117366],\n",
       "       [ 0.01985423],\n",
       "       [ 0.10781603],\n",
       "       [ 0.36792055],\n",
       "       [ 0.62302086],\n",
       "       [ 0.78637849],\n",
       "       [ 0.30887158],\n",
       "       [ 0.36792055],\n",
       "       [ 0.43453129],\n",
       "       [ 0.72354863],\n",
       "       [ 0.37170143],\n",
       "       [ 0.10781603],\n",
       "       [ 0.36792055],\n",
       "       [ 0.25860769],\n",
       "       [ 0.68585072],\n",
       "       [ 0.88690626],\n",
       "       [ 0.25860769],\n",
       "       [ 0.36792055],\n",
       "       [ 0.67328474],\n",
       "       [ 0.36792055],\n",
       "       [ 0.30887158],\n",
       "       [ 0.2963056 ],\n",
       "       [ 0.2083438 ],\n",
       "       [ 0.25860769],\n",
       "       [ 0.36792055],\n",
       "       [ 0.45966323],\n",
       "       [ 0.19577783],\n",
       "       [ 0.22090978],\n",
       "       [ 0.40939935],\n",
       "       [ 0.36792055],\n",
       "       [ 0.34656949],\n",
       "       [ 0.32143755],\n",
       "       [ 0.35913546],\n",
       "       [ 0.36792055],\n",
       "       [ 0.44709726],\n",
       "       [ 0.67328474],\n",
       "       [ 0.2963056 ],\n",
       "       [ 0.58532295],\n",
       "       [ 0.42196532],\n",
       "       [ 0.36792055],\n",
       "       [ 0.44709726],\n",
       "       [ 0.39683338],\n",
       "       [ 0.37170143],\n",
       "       [ 0.27117366],\n",
       "       [ 0.36792055],\n",
       "       [ 0.54762503],\n",
       "       [ 0.36792055],\n",
       "       [ 0.50364413],\n",
       "       [ 0.62302086],\n",
       "       [ 0.36792055],\n",
       "       [ 0.48479517],\n",
       "       [ 0.28373963],\n",
       "       [ 0.01985423],\n",
       "       [ 0.36792055],\n",
       "       [ 0.2083438 ],\n",
       "       [ 0.36792055],\n",
       "       [ 0.37170143],\n",
       "       [ 0.08268409],\n",
       "       [ 0.560191  ],\n",
       "       [ 0.37170143],\n",
       "       [ 0.36792055],\n",
       "       [ 0.27117366],\n",
       "       [ 0.44709726],\n",
       "       [ 0.10781603],\n",
       "       [ 0.13294798],\n",
       "       [ 0.39683338],\n",
       "       [ 0.62302086],\n",
       "       [ 0.79894446],\n",
       "       [ 0.23347575],\n",
       "       [ 0.36792055],\n",
       "       [ 0.40939935],\n",
       "       [ 0.09525006],\n",
       "       [ 0.2083438 ],\n",
       "       [ 0.33400352],\n",
       "       [ 0.36792055],\n",
       "       [ 0.27117366],\n",
       "       [ 0.27117366],\n",
       "       [ 0.77381252],\n",
       "       [ 0.59788892],\n",
       "       [ 0.36792055],\n",
       "       [ 0.48479517],\n",
       "       [ 0.44709726],\n",
       "       [ 0.36792055],\n",
       "       [ 0.49736115],\n",
       "       [ 0.34656949],\n",
       "       [ 0.36792055],\n",
       "       [ 0.36792055],\n",
       "       [ 0.2963056 ],\n",
       "       [ 0.23347575],\n",
       "       [ 0.35913546],\n",
       "       [ 0.36792055],\n",
       "       [ 0.39683338],\n",
       "       [ 0.77381252],\n",
       "       [ 0.66071877],\n",
       "       [ 0.44709726],\n",
       "       [ 0.36792055],\n",
       "       [ 0.19577783],\n",
       "       [ 0.23347575],\n",
       "       [ 0.42196532],\n",
       "       [ 0.48479517],\n",
       "       [ 0.36792055],\n",
       "       [ 0.39683338],\n",
       "       [ 0.30887158],\n",
       "       [ 0.48479517],\n",
       "       [ 0.67328474],\n",
       "       [ 0.44709726],\n",
       "       [ 0.36792055],\n",
       "       [ 0.22090978],\n",
       "       [ 0.58532295],\n",
       "       [ 0.74868057],\n",
       "       [ 0.27117366],\n",
       "       [ 0.36792055],\n",
       "       [ 0.43453129],\n",
       "       [ 0.6481528 ],\n",
       "       [ 0.58532295],\n",
       "       [ 0.36792055],\n",
       "       [ 0.45966323],\n",
       "       [ 0.44709726],\n",
       "       [ 0.36792055],\n",
       "       [ 0.61045489],\n",
       "       [ 0.36792055],\n",
       "       [ 0.61045489],\n",
       "       [ 0.2963056 ],\n",
       "       [ 0.36792055],\n",
       "       [ 0.36792055],\n",
       "       [ 0.54762503],\n",
       "       [ 0.43453129],\n",
       "       [ 0.44709726],\n",
       "       [ 0.37170143],\n",
       "       [ 0.33400352],\n",
       "       [ 0.27117366],\n",
       "       [ 0.49736115],\n",
       "       [ 0.48479517],\n",
       "       [ 0.36792055],\n",
       "       [ 0.36792055],\n",
       "       [ 0.36792055],\n",
       "       [ 0.43453129],\n",
       "       [ 0.2963056 ],\n",
       "       [ 0.42196532],\n",
       "       [ 0.32143755],\n",
       "       [ 0.04498618],\n",
       "       [ 0.32143755],\n",
       "       [ 0.33400352],\n",
       "       [ 0.52249309],\n",
       "       [ 0.24604172],\n",
       "       [ 0.25860769],\n",
       "       [ 0.25860769],\n",
       "       [ 0.76124654],\n",
       "       [ 0.71098266],\n",
       "       [ 0.25860769],\n",
       "       [ 0.32143755],\n",
       "       [ 0.36792055],\n",
       "       [ 1.        ],\n",
       "       [ 0.63558683],\n",
       "       [ 0.39683338],\n",
       "       [ 0.36792055],\n",
       "       [ 0.10781603],\n",
       "       [ 0.34656949],\n",
       "       [ 0.39683338],\n",
       "       [ 0.3842674 ],\n",
       "       [ 0.50992712],\n",
       "       [ 0.36792055],\n",
       "       [ 0.24604172],\n",
       "       [ 0.2963056 ],\n",
       "       [ 0.01985423],\n",
       "       [ 0.36792055],\n",
       "       [ 0.00414677],\n",
       "       [ 0.59788892],\n",
       "       [ 0.23347575],\n",
       "       [ 0.69841669],\n",
       "       [ 0.36792055],\n",
       "       [ 0.28373963],\n",
       "       [ 0.36792055],\n",
       "       [ 0.22090978],\n",
       "       [ 0.25860769],\n",
       "       [ 0.36792055],\n",
       "       [ 0.22090978],\n",
       "       [ 0.2963056 ],\n",
       "       [ 0.36792055],\n",
       "       [ 0.39683338],\n",
       "       [ 0.28373963],\n",
       "       [ 0.72354863],\n",
       "       [ 0.62302086],\n",
       "       [ 0.49736115],\n",
       "       [ 0.58532295],\n",
       "       [ 0.44709726],\n",
       "       [ 0.24604172],\n",
       "       [ 0.39683338],\n",
       "       [ 0.30887158],\n",
       "       [ 0.36792055],\n",
       "       [ 0.53505906],\n",
       "       [ 0.36792055],\n",
       "       [ 0.49736115],\n",
       "       [ 0.3842674 ],\n",
       "       [ 0.87434029],\n",
       "       [ 0.3842674 ],\n",
       "       [ 0.36792055],\n",
       "       [ 0.22090978],\n",
       "       [ 0.30258859],\n",
       "       [ 0.22090978],\n",
       "       [ 0.53505906],\n",
       "       [ 0.44709726],\n",
       "       [ 0.36792055],\n",
       "       [ 0.33400352],\n",
       "       [ 0.24604172],\n",
       "       [ 0.17064589],\n",
       "       [ 0.74868057],\n",
       "       [ 0.30887158],\n",
       "       [ 0.17064589],\n",
       "       [ 0.23347575],\n",
       "       [ 0.22090978],\n",
       "       [ 0.18321186],\n",
       "       [ 0.3842674 ],\n",
       "       [ 0.04498618],\n",
       "       [ 0.36792055],\n",
       "       [ 0.30887158],\n",
       "       [ 0.74868057],\n",
       "       [ 0.6481528 ],\n",
       "       [ 0.54762503],\n",
       "       [ 0.36792055],\n",
       "       [ 0.61045489],\n",
       "       [ 0.52249309],\n",
       "       [ 0.22090978],\n",
       "       [ 0.43453129],\n",
       "       [ 0.22090978],\n",
       "       [ 0.30887158],\n",
       "       [ 0.32143755],\n",
       "       [ 0.48479517],\n",
       "       [ 0.560191  ],\n",
       "       [ 0.52249309],\n",
       "       [ 0.27117366],\n",
       "       [ 0.36792055],\n",
       "       [ 0.2963056 ],\n",
       "       [ 0.36792055],\n",
       "       [ 0.59788892],\n",
       "       [ 0.35913546],\n",
       "       [ 0.6481528 ],\n",
       "       [ 0.23347575],\n",
       "       [ 0.4722292 ],\n",
       "       [ 0.33400352],\n",
       "       [ 0.36792055],\n",
       "       [ 0.40939935],\n",
       "       [ 0.07011812],\n",
       "       [ 0.2083438 ],\n",
       "       [ 0.42196532],\n",
       "       [ 0.62302086],\n",
       "       [ 0.33400352],\n",
       "       [ 0.24604172],\n",
       "       [ 0.37170143],\n",
       "       [ 0.36792055],\n",
       "       [ 0.30887158],\n",
       "       [ 0.30887158],\n",
       "       [ 0.35913546],\n",
       "       [ 0.13294798],\n",
       "       [ 0.36792055],\n",
       "       [ 0.28373963],\n",
       "       [ 0.28373963],\n",
       "       [ 0.35285248],\n",
       "       [ 0.59788892],\n",
       "       [ 0.43453129],\n",
       "       [ 0.36792055],\n",
       "       [ 0.36792055],\n",
       "       [ 0.36792055],\n",
       "       [ 0.44709726],\n",
       "       [ 0.25860769],\n",
       "       [ 0.2963056 ],\n",
       "       [ 0.3842674 ],\n",
       "       [ 0.87434029],\n",
       "       [ 0.19577783],\n",
       "       [ 0.37170143],\n",
       "       [ 0.23347575],\n",
       "       [ 0.3842674 ],\n",
       "       [ 0.04498618],\n",
       "       [ 0.07011812],\n",
       "       [ 0.40939935],\n",
       "       [ 0.28373963],\n",
       "       [ 0.59788892],\n",
       "       [ 0.00314149],\n",
       "       [ 0.34656949],\n",
       "       [ 0.22090978],\n",
       "       [ 0.42196532],\n",
       "       [ 0.40939935],\n",
       "       [ 0.36792055],\n",
       "       [ 0.50992712],\n",
       "       [ 0.24604172],\n",
       "       [ 0.44709726],\n",
       "       [ 0.19577783],\n",
       "       [ 0.63558683],\n",
       "       [ 0.36792055],\n",
       "       [ 0.37798442],\n",
       "       [ 0.36792055],\n",
       "       [ 0.39683338],\n",
       "       [ 0.2963056 ],\n",
       "       [ 0.59788892],\n",
       "       [ 0.71098266],\n",
       "       [ 0.36792055],\n",
       "       [ 0.67328474],\n",
       "       [ 0.22090978],\n",
       "       [ 0.36792055],\n",
       "       [ 0.05755215],\n",
       "       [ 0.36792055],\n",
       "       [ 0.53505906],\n",
       "       [ 0.15807992],\n",
       "       [ 0.2083438 ],\n",
       "       [ 0.35913546],\n",
       "       [ 0.36792055],\n",
       "       [ 0.30887158],\n",
       "       [ 0.30887158],\n",
       "       [ 0.22090978],\n",
       "       [ 0.09525006],\n",
       "       [ 0.00728826],\n",
       "       [ 0.57275697],\n",
       "       [ 0.36792055],\n",
       "       [ 0.19577783],\n",
       "       [ 0.36792055],\n",
       "       [ 0.36792055],\n",
       "       [ 0.30887158],\n",
       "       [ 0.48479517],\n",
       "       [ 0.61045489],\n",
       "       [ 0.3842674 ],\n",
       "       [ 0.37170143],\n",
       "       [ 0.37170143],\n",
       "       [ 0.42196532],\n",
       "       [ 0.3842674 ],\n",
       "       [ 0.13294798],\n",
       "       [ 0.        ],\n",
       "       [ 0.33400352],\n",
       "       [ 0.3842674 ],\n",
       "       [ 0.48479517],\n",
       "       [ 0.22090978],\n",
       "       [ 0.48479517],\n",
       "       [ 0.40939935],\n",
       "       [ 0.32143755],\n",
       "       [ 0.48479517],\n",
       "       [ 0.43453129],\n",
       "       [ 0.07011812],\n",
       "       [ 0.37798442],\n",
       "       [ 0.36792055],\n",
       "       [ 0.28373963],\n",
       "       [ 0.3842674 ],\n",
       "       [ 0.53505906],\n",
       "       [ 0.12038201],\n",
       "       [ 0.6481528 ],\n",
       "       [ 0.33400352],\n",
       "       [ 0.4722292 ],\n",
       "       [ 0.33400352],\n",
       "       [ 0.01985423],\n",
       "       [ 0.36792055],\n",
       "       [ 0.36792055],\n",
       "       [ 0.00728826],\n",
       "       [ 0.36792055],\n",
       "       [ 0.77381252],\n",
       "       [ 0.18321186],\n",
       "       [ 0.00515205],\n",
       "       [ 0.36792055],\n",
       "       [ 0.28373963],\n",
       "       [ 0.22090978],\n",
       "       [ 0.48479517],\n",
       "       [ 0.25860769],\n",
       "       [ 0.36792055],\n",
       "       [ 0.39683338],\n",
       "       [ 0.36792055],\n",
       "       [ 0.24604172],\n",
       "       [ 0.19577783],\n",
       "       [ 0.37170143],\n",
       "       [ 0.4282483 ],\n",
       "       [ 0.2083438 ],\n",
       "       [ 0.52249309],\n",
       "       [ 0.36792055],\n",
       "       [ 0.43453129],\n",
       "       [ 0.34656949],\n",
       "       [ 0.36792055],\n",
       "       [ 0.04498618],\n",
       "       [ 0.92460417],\n",
       "       [ 0.10781603],\n",
       "       [ 0.19577783],\n",
       "       [ 0.54762503],\n",
       "       [ 0.22090978],\n",
       "       [ 0.560191  ],\n",
       "       [ 0.63558683],\n",
       "       [ 0.2963056 ],\n",
       "       [ 0.36792055],\n",
       "       [ 0.50992712],\n",
       "       [ 0.25860769],\n",
       "       [ 0.59788892],\n",
       "       [ 0.36792055],\n",
       "       [ 0.2963056 ],\n",
       "       [ 0.52249309],\n",
       "       [ 0.33400352],\n",
       "       [ 0.3842674 ],\n",
       "       [ 0.36792055],\n",
       "       [ 0.04498618],\n",
       "       [ 0.32143755],\n",
       "       [ 0.58532295],\n",
       "       [ 0.40939935],\n",
       "       [ 0.58532295],\n",
       "       [ 0.34656949],\n",
       "       [ 0.18321186],\n",
       "       [ 0.24604172],\n",
       "       [ 0.23347575],\n",
       "       [ 0.36792055],\n",
       "       [ 0.69841669],\n",
       "       [ 0.30887158],\n",
       "       [ 0.40939935],\n",
       "       [ 0.27117366],\n",
       "       [ 0.34656949],\n",
       "       [ 0.30887158],\n",
       "       [ 0.48479517],\n",
       "       [ 0.33400352],\n",
       "       [ 0.23347575],\n",
       "       [ 0.36792055],\n",
       "       [ 0.32143755],\n",
       "       [ 0.39683338]])"
      ]
     },
     "execution_count": 19,
     "metadata": {},
     "output_type": "execute_result"
    }
   ],
   "source": [
    "scaler = MinMaxScaler()\n",
    "\n",
    "scaler.fit_transform(titanic.Age.reshape(-1, 1))"
   ]
  },
  {
   "cell_type": "markdown",
   "metadata": {},
   "source": [
    "Never. Pass. NaNs. To. Sci. Kit. Learn."
   ]
  },
  {
   "cell_type": "markdown",
   "metadata": {},
   "source": [
    "## Classification and K Nearest Neighbors"
   ]
  },
  {
   "cell_type": "markdown",
   "metadata": {},
   "source": [
    "Target: Survivability!\n",
    "\n",
    "Natural Categories:\n",
    "    Embarked,\n",
    "    Survived,\n",
    "    Pclass"
   ]
  },
  {
   "cell_type": "code",
   "execution_count": 20,
   "metadata": {
    "collapsed": false
   },
   "outputs": [
    {
     "data": {
      "text/plain": [
       "KNeighborsClassifier(algorithm='auto', leaf_size=30, metric='minkowski',\n",
       "           metric_params=None, n_jobs=1, n_neighbors=5, p=2,\n",
       "           weights='uniform')"
      ]
     },
     "execution_count": 20,
     "metadata": {},
     "output_type": "execute_result"
    }
   ],
   "source": [
    "clf = KNeighborsClassifier()\n",
    "\n",
    "clf.fit(titanic[[\"Age\", \"Fare\"]], titanic.Survived)"
   ]
  },
  {
   "cell_type": "code",
   "execution_count": 21,
   "metadata": {
    "collapsed": true
   },
   "outputs": [],
   "source": [
    "titanic[\"age_scaled\"] = scaler.fit_transform(titanic.Age.reshape(-1, 1))\n",
    "titanic[\"fare_scaled\"] = scaler.fit_transform(titanic.Fare.reshape(-1, 1))"
   ]
  },
  {
   "cell_type": "code",
   "execution_count": 22,
   "metadata": {
    "collapsed": false
   },
   "outputs": [
    {
     "data": {
      "text/plain": [
       "KNeighborsClassifier(algorithm='auto', leaf_size=30, metric='minkowski',\n",
       "           metric_params=None, n_jobs=1, n_neighbors=5, p=2,\n",
       "           weights='uniform')"
      ]
     },
     "execution_count": 22,
     "metadata": {},
     "output_type": "execute_result"
    }
   ],
   "source": [
    "clf.fit(titanic[[\"age_scaled\", \"fare_scaled\"]], titanic.Survived)"
   ]
  },
  {
   "cell_type": "markdown",
   "metadata": {},
   "source": [
    "## Train Data"
   ]
  },
  {
   "cell_type": "code",
   "execution_count": 24,
   "metadata": {
    "collapsed": true
   },
   "outputs": [],
   "source": [
    "x_train, x_test, y_train, y_test = train_test_split(titanic[[\"age_scaled\", \"fare_scaled\"]], titanic.Survived, test_size=0.33)"
   ]
  },
  {
   "cell_type": "code",
   "execution_count": 26,
   "metadata": {
    "collapsed": false
   },
   "outputs": [],
   "source": [
    "clf = KNeighborsClassifier()\n",
    "clf.fit(x_train, y_train)\n",
    "\n",
    "y_model = clf.predict(x_test)"
   ]
  },
  {
   "cell_type": "markdown",
   "metadata": {},
   "source": [
    "### Accuracy Score"
   ]
  },
  {
   "cell_type": "code",
   "execution_count": 27,
   "metadata": {
    "collapsed": true
   },
   "outputs": [],
   "source": [
    "from sklearn.metrics import accuracy_score"
   ]
  },
  {
   "cell_type": "code",
   "execution_count": 28,
   "metadata": {
    "collapsed": false
   },
   "outputs": [
    {
     "data": {
      "text/plain": [
       "0.69830508474576269"
      ]
     },
     "execution_count": 28,
     "metadata": {},
     "output_type": "execute_result"
    }
   ],
   "source": [
    "accuracy_score(y_test, y_model) # Truth compared to output of the model"
   ]
  },
  {
   "cell_type": "markdown",
   "metadata": {},
   "source": [
    "## Cross Validation"
   ]
  },
  {
   "cell_type": "markdown",
   "metadata": {},
   "source": [
    "Making sure that the classifier is not overfit on data.\n",
    "\n",
    "Dividing data into sets for training and sets for testing.\n",
    "\n",
    "Kfold. 1 = test set, n -1 = training set"
   ]
  },
  {
   "cell_type": "code",
   "execution_count": 30,
   "metadata": {
    "collapsed": false
   },
   "outputs": [
    {
     "data": {
      "text/plain": [
       "5"
      ]
     },
     "execution_count": 30,
     "metadata": {},
     "output_type": "execute_result"
    }
   ],
   "source": [
    "from sklearn.model_selection import KFold\n",
    "\n",
    "kf = KFold(n_splits=5, random_state=4)\n",
    "kf.get_n_splits(titanic)"
   ]
  },
  {
   "cell_type": "code",
   "execution_count": 31,
   "metadata": {
    "collapsed": false
   },
   "outputs": [
    {
     "name": "stdout",
     "output_type": "stream",
     "text": [
      "accuracy:  0.597765363128\n",
      "accuracy:  0.64606741573\n",
      "accuracy:  0.651685393258\n",
      "accuracy:  0.685393258427\n",
      "accuracy:  0.702247191011\n"
     ]
    }
   ],
   "source": [
    "for train_index, test_index in kf.split(titanic):\n",
    "    X_train = titanic[[\"age_scaled\", \"fare_scaled\"]].loc[train_index]\n",
    "    X_test = titanic[[\"age_scaled\", \"fare_scaled\"]].loc[test_index]\n",
    "\n",
    "    y_train = titanic.Survived.loc[train_index]\n",
    "    y_test = titanic.Survived.loc[test_index]\n",
    "\n",
    "    clf.fit(X_train, y_train)\n",
    "    y_model = clf.predict(X_test)\n",
    "    print(\"accuracy: \", accuracy_score(y_test, y_model))"
   ]
  },
  {
   "cell_type": "code",
   "execution_count": 41,
   "metadata": {
    "collapsed": true
   },
   "outputs": [],
   "source": [
    "avg_accuracy = []"
   ]
  },
  {
   "cell_type": "code",
   "execution_count": 42,
   "metadata": {
    "collapsed": true
   },
   "outputs": [],
   "source": [
    "for k in range(1, 41):\n",
    "    clf = KNeighborsClassifier(n_neighbors=k)\n",
    "    accuracies = []\n",
    "    kf = KFold(n_splits=5, random_state=4, shuffle=True)\n",
    "    kf.get_n_splits(titanic)\n",
    "\n",
    "    for train_index, test_index in kf.split(titanic):\n",
    "         X_train = titanic[[\"age_scaled\", \"fare_scaled\"]].loc[train_index]\n",
    "         X_test = titanic[[\"age_scaled\", \"fare_scaled\"]].loc[test_index]\n",
    "\n",
    "         y_train = titanic.Survived.loc[train_index]\n",
    "         y_test = titanic.Survived.loc[test_index]\n",
    "\n",
    "         clf.fit(X_train, y_train)\n",
    "         y_model = clf.predict(X_test)\n",
    "         accuracies.append(accuracy_score(y_test, y_model))\n",
    "\n",
    "    avg_accuracy.append(np.mean(accuracies))"
   ]
  },
  {
   "cell_type": "code",
   "execution_count": 45,
   "metadata": {
    "collapsed": false
   },
   "outputs": [
    {
     "data": {
      "image/png": "[encoded data removed]",
      "text/plain": [
       "<matplotlib.figure.Figure at 0x10bd24470>"
      ]
     },
     "metadata": {},
     "output_type": "display_data"
    }
   ],
   "source": [
    "plt.plot(range(1, 41), avg_accuracy, 'ko-')\n",
    "plt.show()"
   ]
  },
  {
   "cell_type": "code",
   "execution_count": null,
   "metadata": {
    "collapsed": true
   },
   "outputs": [],
   "source": []
  }
 ],
 "metadata": {
  "kernelspec": {
   "display_name": "Python 3",
   "language": "python",
   "name": "python3"
  },
  "language_info": {
   "codemirror_mode": {
    "name": "ipython",
    "version": 3
   },
   "file_extension": ".py",
   "mimetype": "text/x-python",
   "name": "python",
   "nbconvert_exporter": "python",
   "pygments_lexer": "ipython3",
   "version": "3.5.1"
  }
 },
 "nbformat": 4,
 "nbformat_minor": 1
}
