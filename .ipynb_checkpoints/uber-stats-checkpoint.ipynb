{
 "cells": [
  {
   "cell_type": "markdown",
   "metadata": {},
   "source": [
    "# Uber Pickups in NYC -- Jan-Feb 2015\n",
    "\n",
    "\n",
    "#### Selena Flannery -- Nov 13, 2016"
   ]
  },
  {
   "cell_type": "code",
   "execution_count": null,
   "metadata": {
    "collapsed": false
   },
   "outputs": [],
   "source": [
    "import numpy as np\n",
    "import matplotlib.pyplot as plt\n",
    "import dateutil.parser\n",
    "\n",
    "%matplotlib inline\n",
    "filename = \"Uber-Jan-Feb-FOIL.csv\"\n",
    "\n",
    "data = np.genfromtxt(filename, names=True, dtype=(\"U10\", datetime, float, float), unpack=True, delimiter=',', converters={\"date\":dateutil.parser.parse})\n",
    "names = data.dtype.names\n",
    "days = np.unique(data[\"date\"])\n",
    "bases = np.unique(data[\"dispatching_base_number\"])\n",
    "print(names)\n"
   ]
  },
  {
   "cell_type": "markdown",
   "metadata": {
    "collapsed": true
   },
   "source": [
    "## Average Number of Total Active Vehicles"
   ]
  },
  {
   "cell_type": "code",
   "execution_count": null,
   "metadata": {
    "collapsed": false
   },
   "outputs": [],
   "source": [
    "print(np.mean(data[\"active_vehicles\"]))"
   ]
  },
  {
   "cell_type": "markdown",
   "metadata": {},
   "source": [
    "## Average Number of Trips Per Day"
   ]
  },
  {
   "cell_type": "code",
   "execution_count": null,
   "metadata": {
    "collapsed": false
   },
   "outputs": [],
   "source": [
    "av_trip_per_day = np.mean([np.sum(data[data[\"date\"] == day][\"trips\"]) for day in days])\n",
    "print(av_trip_per_day)\n"
   ]
  },
  {
   "cell_type": "markdown",
   "metadata": {},
   "source": [
    "## Average Number of Active Vehicles Per Dispatching Base Per Day"
   ]
  },
  {
   "cell_type": "code",
   "execution_count": null,
   "metadata": {
    "collapsed": false
   },
   "outputs": [],
   "source": [
    "av_vpb = [np.sum(data[data[\"dispatching_base_number\"] == b][\"active_vehicles\"])/len(days) for b in bases]\n",
    "av_vpb_per_day = np.mean(av_vpb)\n",
    "print(av_vpb_per_day)"
   ]
  },
  {
   "cell_type": "markdown",
   "metadata": {},
   "source": [
    "## Average number of trips per vehicle per day"
   ]
  },
  {
   "cell_type": "code",
   "execution_count": null,
   "metadata": {
    "collapsed": false,
    "scrolled": true
   },
   "outputs": [],
   "source": [
    "tpv = [np.sum(data[data[\"date\"] == day][\"trips\"])/np.sum(data[data[\"date\"] == day][\"active_vehicles\"]) for day in days]\n",
    "av_tpv_per_day = np.mean(tpv)\n",
    "print(av_tpv_per_day)\n"
   ]
  },
  {
   "cell_type": "markdown",
   "metadata": {},
   "source": [
    "## Standard deviation in active vehicles per day"
   ]
  },
  {
   "cell_type": "code",
   "execution_count": null,
   "metadata": {
    "collapsed": false
   },
   "outputs": [],
   "source": [
    "std_veh_per_day = np.std([np.sum(data[data[\"date\"] == day][\"active_vehicles\"]) for day in days])\n",
    "print(std_veh_per_day)\n"
   ]
  },
  {
   "cell_type": "markdown",
   "metadata": {},
   "source": [
    "## For the month of January, which Dispatching Bases have active vehicles outside of one standard deviation from the mean?"
   ]
  },
  {
   "cell_type": "code",
   "execution_count": null,
   "metadata": {
    "collapsed": false
   },
   "outputs": [],
   "source": [
    "base_totals = [(b, np.sum(data[data[\"dispatching_base_number\"] == b][\"active_vehicles\"])) for b in bases]\n",
    "base_names, vehicles_per_base = zip(*base_totals)\n",
    "std = np.std(vehicles_per_base)\n",
    "mean = np.mean(vehicles_per_base)\n",
    "\n",
    "bases_with_more_than_one_std = [base_names[i] for i, x in enumerate(vehicles_per_base) if abs(x - mean) > std]\n",
    "print(bases_with_more_than_one_std)\n"
   ]
  },
  {
   "cell_type": "markdown",
   "metadata": {},
   "source": [
    "## Which month showed more activity for Uber, January 2015 or February 2015? \n"
   ]
  },
  {
   "cell_type": "code",
   "execution_count": null,
   "metadata": {
    "collapsed": false
   },
   "outputs": [],
   "source": [
    "jan_trips = {d: 0 for d in days if d.month == 1}\n",
    "feb_trips = {d: 0 for d in days if d.month == 2}\n",
    "\n",
    "for row in data:\n",
    "    if row[\"date\"].month == 1:\n",
    "        jan_trips[row[1]] += float(row[3])\n",
    "    if row[\"date\"].month == 2:\n",
    "        feb_trips[row[1]] += float(row[3])\n",
    "\n",
    "jan_total = sum(jan_trips.values())\n",
    "jan_av = jan_total/len(jan_trips)\n",
    "feb_total = sum(feb_trips.values())\n",
    "feb_av = feb_total/len(feb_trips)\n",
    "\n",
    "print(\"\"\"\n",
    "In January, there was a total of {} trips\\nand an average of {} trips per day.\n",
    "In February there was a total of {} trips\\nand an average of {} trips per day.\n",
    "\"\"\".format(jan_total, jan_av, feb_total, feb_av))\n",
    "print(\"From this data, it is clear that February showed more total trips and average trips per day\")\n",
    "# jan_trips = np.sum(data[data[\"date\"].month == \"January\"][\"trips\"])"
   ]
  },
  {
   "cell_type": "markdown",
   "metadata": {},
   "source": [
    "## Visualizations"
   ]
  },
  {
   "cell_type": "code",
   "execution_count": null,
   "metadata": {
    "collapsed": false
   },
   "outputs": [],
   "source": [
    "x, y = zip(*[(d, np.sum(data[data[\"date\"] == d][\"active_vehicles\"])) for d in days])\n",
    "plt.figure(figsize=(10,5))\n",
    "plt.plot(x, y)\n",
    "plt.title(\"Active Vehicles Per Day\")\n",
    "plt.xlabel(\"Date\")\n",
    "plt.ylabel(\"# of Active Vehicles\")\n",
    "\n",
    "plt.show()"
   ]
  },
  {
   "cell_type": "code",
   "execution_count": null,
   "metadata": {
    "collapsed": true
   },
   "outputs": [],
   "source": [
    "# x, y = zip(*[(d, np.sum(data[data[\"date\"] == d][\"trips\"])) for d in days])\n",
    "# plt.figure(figsize=(10,5))\n",
    "# plt.plot(x, y)\n",
    "# plt.title(\"Trips Per Day\")\n",
    "# plt.xlabel(\"Date\")\n",
    "# plt.ylabel(\"# of Trips\")\n",
    "\n",
    "# plt.show()"
   ]
  },
  {
   "cell_type": "code",
   "execution_count": null,
   "metadata": {
    "collapsed": true
   },
   "outputs": [],
   "source": [
    "x, y, av = zip(*[(d, np.sum())])"
   ]
  }
 ],
 "metadata": {
  "kernelspec": {
   "display_name": "Python 3",
   "language": "python",
   "name": "python3"
  },
  "language_info": {
   "codemirror_mode": {
    "name": "ipython",
    "version": 3
   },
   "file_extension": ".py",
   "mimetype": "text/x-python",
   "name": "python",
   "nbconvert_exporter": "python",
   "pygments_lexer": "ipython3",
   "version": "3.5.1"
  }
 },
 "nbformat": 4,
 "nbformat_minor": 1
}
